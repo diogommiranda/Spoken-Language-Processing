{
  "cells": [
    {
      "cell_type": "markdown",
      "metadata": {
        "id": "peos_DxILXuA"
      },
      "source": [
        "<!-- # <span style=\"color:red\">UNDER CONSTRUCTION!!!!</span> -->\n",
        "\n",
        "# Spoken Language Processing - Instituto Superior Técnico\n",
        "## Laboratory Assignment 2 - Native Language Identification challenge\n",
        "\n",
        "# PART 2 - Using pre-trained models\n",
        "\n",
        "\n",
        "This notebook contains the guide and code cells that permit implementing two advanced systems for native language identification based on:\n",
        "- speaker representations (utterance-based) obtained with an x-vector model;\n",
        "- speech representations (frame-based) obtained with a self-supervised learning (SSL) pre-trained model.\n",
        "\n",
        "Besides, the notebook will show how to obtain predictions and score the systems on the development set."
      ]
    },
    {
      "cell_type": "markdown",
      "metadata": {
        "id": "ItPXi-8pLXuD"
      },
      "source": [
        "## Before starting\n",
        "\n",
        "Let's import some modules and make some definitions:"
      ]
    },
    {
      "cell_type": "code",
      "execution_count": null,
      "metadata": {
        "colab": {
          "base_uri": "https://localhost:8080/"
        },
        "id": "UR0aE4HrLneb",
        "outputId": "db1abc38-99d1-491e-cb62-4cad64c77706"
      },
      "outputs": [
        {
          "output_type": "stream",
          "name": "stdout",
          "text": [
            "Collecting speechbrain\n",
            "  Downloading speechbrain-1.0.0-py3-none-any.whl (760 kB)\n",
            "\u001b[2K     \u001b[90m━━━━━━━━━━━━━━━━━━━━━━━━━━━━━━━━━━━━━━━━\u001b[0m \u001b[32m760.1/760.1 kB\u001b[0m \u001b[31m6.7 MB/s\u001b[0m eta \u001b[36m0:00:00\u001b[0m\n",
            "\u001b[?25hCollecting hyperpyyaml (from speechbrain)\n",
            "  Downloading HyperPyYAML-1.2.2-py3-none-any.whl (16 kB)\n",
            "Requirement already satisfied: joblib in /usr/local/lib/python3.10/dist-packages (from speechbrain) (1.4.2)\n",
            "Requirement already satisfied: numpy in /usr/local/lib/python3.10/dist-packages (from speechbrain) (1.25.2)\n",
            "Requirement already satisfied: packaging in /usr/local/lib/python3.10/dist-packages (from speechbrain) (24.0)\n",
            "Requirement already satisfied: scipy in /usr/local/lib/python3.10/dist-packages (from speechbrain) (1.11.4)\n",
            "Requirement already satisfied: sentencepiece in /usr/local/lib/python3.10/dist-packages (from speechbrain) (0.1.99)\n",
            "Requirement already satisfied: torch>=1.9 in /usr/local/lib/python3.10/dist-packages (from speechbrain) (2.2.1+cu121)\n",
            "Requirement already satisfied: torchaudio in /usr/local/lib/python3.10/dist-packages (from speechbrain) (2.2.1+cu121)\n",
            "Requirement already satisfied: tqdm in /usr/local/lib/python3.10/dist-packages (from speechbrain) (4.66.4)\n",
            "Requirement already satisfied: huggingface-hub in /usr/local/lib/python3.10/dist-packages (from speechbrain) (0.20.3)\n",
            "Requirement already satisfied: filelock in /usr/local/lib/python3.10/dist-packages (from torch>=1.9->speechbrain) (3.14.0)\n",
            "Requirement already satisfied: typing-extensions>=4.8.0 in /usr/local/lib/python3.10/dist-packages (from torch>=1.9->speechbrain) (4.11.0)\n",
            "Requirement already satisfied: sympy in /usr/local/lib/python3.10/dist-packages (from torch>=1.9->speechbrain) (1.12)\n",
            "Requirement already satisfied: networkx in /usr/local/lib/python3.10/dist-packages (from torch>=1.9->speechbrain) (3.3)\n",
            "Requirement already satisfied: jinja2 in /usr/local/lib/python3.10/dist-packages (from torch>=1.9->speechbrain) (3.1.4)\n",
            "Requirement already satisfied: fsspec in /usr/local/lib/python3.10/dist-packages (from torch>=1.9->speechbrain) (2023.6.0)\n",
            "Collecting nvidia-cuda-nvrtc-cu12==12.1.105 (from torch>=1.9->speechbrain)\n",
            "  Using cached nvidia_cuda_nvrtc_cu12-12.1.105-py3-none-manylinux1_x86_64.whl (23.7 MB)\n",
            "Collecting nvidia-cuda-runtime-cu12==12.1.105 (from torch>=1.9->speechbrain)\n",
            "  Using cached nvidia_cuda_runtime_cu12-12.1.105-py3-none-manylinux1_x86_64.whl (823 kB)\n",
            "Collecting nvidia-cuda-cupti-cu12==12.1.105 (from torch>=1.9->speechbrain)\n",
            "  Using cached nvidia_cuda_cupti_cu12-12.1.105-py3-none-manylinux1_x86_64.whl (14.1 MB)\n",
            "Collecting nvidia-cudnn-cu12==8.9.2.26 (from torch>=1.9->speechbrain)\n",
            "  Using cached nvidia_cudnn_cu12-8.9.2.26-py3-none-manylinux1_x86_64.whl (731.7 MB)\n",
            "Collecting nvidia-cublas-cu12==12.1.3.1 (from torch>=1.9->speechbrain)\n",
            "  Using cached nvidia_cublas_cu12-12.1.3.1-py3-none-manylinux1_x86_64.whl (410.6 MB)\n",
            "Collecting nvidia-cufft-cu12==11.0.2.54 (from torch>=1.9->speechbrain)\n",
            "  Using cached nvidia_cufft_cu12-11.0.2.54-py3-none-manylinux1_x86_64.whl (121.6 MB)\n",
            "Collecting nvidia-curand-cu12==10.3.2.106 (from torch>=1.9->speechbrain)\n",
            "  Using cached nvidia_curand_cu12-10.3.2.106-py3-none-manylinux1_x86_64.whl (56.5 MB)\n",
            "Collecting nvidia-cusolver-cu12==11.4.5.107 (from torch>=1.9->speechbrain)\n",
            "  Using cached nvidia_cusolver_cu12-11.4.5.107-py3-none-manylinux1_x86_64.whl (124.2 MB)\n",
            "Collecting nvidia-cusparse-cu12==12.1.0.106 (from torch>=1.9->speechbrain)\n",
            "  Using cached nvidia_cusparse_cu12-12.1.0.106-py3-none-manylinux1_x86_64.whl (196.0 MB)\n",
            "Collecting nvidia-nccl-cu12==2.19.3 (from torch>=1.9->speechbrain)\n",
            "  Using cached nvidia_nccl_cu12-2.19.3-py3-none-manylinux1_x86_64.whl (166.0 MB)\n",
            "Collecting nvidia-nvtx-cu12==12.1.105 (from torch>=1.9->speechbrain)\n",
            "  Using cached nvidia_nvtx_cu12-12.1.105-py3-none-manylinux1_x86_64.whl (99 kB)\n",
            "Requirement already satisfied: triton==2.2.0 in /usr/local/lib/python3.10/dist-packages (from torch>=1.9->speechbrain) (2.2.0)\n",
            "Collecting nvidia-nvjitlink-cu12 (from nvidia-cusolver-cu12==11.4.5.107->torch>=1.9->speechbrain)\n",
            "  Using cached nvidia_nvjitlink_cu12-12.4.127-py3-none-manylinux2014_x86_64.whl (21.1 MB)\n",
            "Requirement already satisfied: requests in /usr/local/lib/python3.10/dist-packages (from huggingface-hub->speechbrain) (2.31.0)\n",
            "Requirement already satisfied: pyyaml>=5.1 in /usr/local/lib/python3.10/dist-packages (from huggingface-hub->speechbrain) (6.0.1)\n",
            "Collecting ruamel.yaml>=0.17.28 (from hyperpyyaml->speechbrain)\n",
            "  Downloading ruamel.yaml-0.18.6-py3-none-any.whl (117 kB)\n",
            "\u001b[2K     \u001b[90m━━━━━━━━━━━━━━━━━━━━━━━━━━━━━━━━━━━━━━━━\u001b[0m \u001b[32m117.8/117.8 kB\u001b[0m \u001b[31m6.6 MB/s\u001b[0m eta \u001b[36m0:00:00\u001b[0m\n",
            "\u001b[?25hCollecting ruamel.yaml.clib>=0.2.7 (from ruamel.yaml>=0.17.28->hyperpyyaml->speechbrain)\n",
            "  Downloading ruamel.yaml.clib-0.2.8-cp310-cp310-manylinux_2_17_x86_64.manylinux2014_x86_64.manylinux_2_24_x86_64.whl (526 kB)\n",
            "\u001b[2K     \u001b[90m━━━━━━━━━━━━━━━━━━━━━━━━━━━━━━━━━━━━━━━━\u001b[0m \u001b[32m526.7/526.7 kB\u001b[0m \u001b[31m10.6 MB/s\u001b[0m eta \u001b[36m0:00:00\u001b[0m\n",
            "\u001b[?25hRequirement already satisfied: MarkupSafe>=2.0 in /usr/local/lib/python3.10/dist-packages (from jinja2->torch>=1.9->speechbrain) (2.1.5)\n",
            "Requirement already satisfied: charset-normalizer<4,>=2 in /usr/local/lib/python3.10/dist-packages (from requests->huggingface-hub->speechbrain) (3.3.2)\n",
            "Requirement already satisfied: idna<4,>=2.5 in /usr/local/lib/python3.10/dist-packages (from requests->huggingface-hub->speechbrain) (3.7)\n",
            "Requirement already satisfied: urllib3<3,>=1.21.1 in /usr/local/lib/python3.10/dist-packages (from requests->huggingface-hub->speechbrain) (2.0.7)\n",
            "Requirement already satisfied: certifi>=2017.4.17 in /usr/local/lib/python3.10/dist-packages (from requests->huggingface-hub->speechbrain) (2024.2.2)\n",
            "Requirement already satisfied: mpmath>=0.19 in /usr/local/lib/python3.10/dist-packages (from sympy->torch>=1.9->speechbrain) (1.3.0)\n",
            "Installing collected packages: ruamel.yaml.clib, nvidia-nvtx-cu12, nvidia-nvjitlink-cu12, nvidia-nccl-cu12, nvidia-curand-cu12, nvidia-cufft-cu12, nvidia-cuda-runtime-cu12, nvidia-cuda-nvrtc-cu12, nvidia-cuda-cupti-cu12, nvidia-cublas-cu12, ruamel.yaml, nvidia-cusparse-cu12, nvidia-cudnn-cu12, nvidia-cusolver-cu12, hyperpyyaml, speechbrain\n",
            "Successfully installed hyperpyyaml-1.2.2 nvidia-cublas-cu12-12.1.3.1 nvidia-cuda-cupti-cu12-12.1.105 nvidia-cuda-nvrtc-cu12-12.1.105 nvidia-cuda-runtime-cu12-12.1.105 nvidia-cudnn-cu12-8.9.2.26 nvidia-cufft-cu12-11.0.2.54 nvidia-curand-cu12-10.3.2.106 nvidia-cusolver-cu12-11.4.5.107 nvidia-cusparse-cu12-12.1.0.106 nvidia-nccl-cu12-2.19.3 nvidia-nvjitlink-cu12-12.4.127 nvidia-nvtx-cu12-12.1.105 ruamel.yaml-0.18.6 ruamel.yaml.clib-0.2.8 speechbrain-1.0.0\n"
          ]
        }
      ],
      "source": [
        "!pip install speechbrain"
      ]
    },
    {
      "cell_type": "code",
      "execution_count": null,
      "metadata": {
        "id": "kG6iQq43LXuD"
      },
      "outputs": [],
      "source": [
        "import os\n",
        "import csv\n",
        "import time\n",
        "import pickle\n",
        "import numpy as np\n",
        "\n",
        "from pf_tools import CheckThisCell, ETS\n",
        "from speechbrain.inference.classifiers import EncoderClassifier\n",
        "from speechbrain.utils.data_utils import split_path\n",
        "from sklearn.svm import LinearSVC\n",
        "from sklearn.metrics import classification_report, accuracy_score, confusion_matrix\n",
        "import matplotlib.pyplot as plt\n",
        "\n",
        "LANGUAGES = ('CHI',  'GER',  'HIN',  'ITA')\n",
        "LANG2ID = {'CHI':1, 'GER':2, 'HIN':3, 'ITA':4}\n",
        "ID2LANG = dict((LANG2ID[k],k)for k in LANG2ID)"
      ]
    },
    {
      "cell_type": "markdown",
      "metadata": {
        "id": "qQBO0nrgLXuE"
      },
      "source": [
        "Like in the previous Notebooks, you need to mount Google drive if you are working on Google Colab. Otherwise, you should skip or delete the following code cell:"
      ]
    },
    {
      "cell_type": "code",
      "execution_count": null,
      "metadata": {
        "colab": {
          "base_uri": "https://localhost:8080/"
        },
        "id": "sxqVJd_FLXuE",
        "outputId": "8335e67a-535f-4bd1-9c38-7ab6a7e74f8e"
      },
      "outputs": [
        {
          "output_type": "stream",
          "name": "stdout",
          "text": [
            "Mounted at /content/drive\n"
          ]
        }
      ],
      "source": [
        "from google.colab import drive\n",
        "drive.mount('/content/drive')"
      ]
    },
    {
      "cell_type": "markdown",
      "metadata": {
        "id": "dISIS2v8LXuE"
      },
      "source": [
        "\n",
        "Like in Part1, the audio data is expected to be in a folder with the following format:\n",
        "\n",
        "```\n",
        "ets_data/\n",
        "├── train/\n",
        "│   └── audio/\n",
        "│       └──wav files\n",
        "│   └── key.lst\n",
        "│\n",
        "└── train100/\n",
        "    └── audio/\n",
        "        └──wav files\n",
        "    └── key.lst\n",
        "...\n",
        "```\n",
        "\n",
        "You must already have this from part 1, so you can set-up your data directory:"
      ]
    },
    {
      "cell_type": "code",
      "execution_count": null,
      "metadata": {
        "colab": {
          "base_uri": "https://localhost:8080/"
        },
        "id": "h-NejKEXLXuE",
        "outputId": "10974e56-ab1f-402c-a785-57517ae740cd"
      },
      "outputs": [
        {
          "output_type": "stream",
          "name": "stdout",
          "text": [
            "Your ETS data should be in this folder /content/drive/MyDrive/Lab2_PF/ets_data/\n"
          ]
        }
      ],
      "source": [
        "CWD = os.getcwd()\n",
        "DATADIR = f'{CWD}/drive/MyDrive/Lab2_PF/ets_data/' # <--- Change this variable to your working directory containig the ETS data\n",
        "if not os.path.isdir(DATADIR):\n",
        "    os.mkdir(DATADIR)\n",
        "    print(f'WARNING: Your data is not in the folder {DATADIR}')\n",
        "\n",
        "os.chdir(CWD)\n",
        "print(f'Your ETS data should be in this folder {DATADIR}')\n"
      ]
    },
    {
      "cell_type": "markdown",
      "metadata": {
        "id": "Fm9fvmuPLXuF"
      },
      "source": [
        "If you need to download again the data, you can run the following cell:"
      ]
    },
    {
      "cell_type": "code",
      "execution_count": null,
      "metadata": {
        "id": "aYaVkFVkLXuF"
      },
      "outputs": [],
      "source": [
        "raise CheckThisCell\n",
        "\n",
        "os.chdir(DATADIR)\n",
        "\n",
        "# download train\n",
        "!wget http://groups.tecnico.ulisboa.pt/speechproc/pf24/lab2/train.tgz\n",
        "!tar -xzvf train.tgz\n",
        "\n",
        "#download train100\n",
        "!wget http://groups.tecnico.ulisboa.pt/speechproc/pf24/lab2/train100.tgz\n",
        "!tar -xzvf train100.tgz\n",
        "\n",
        "#download dev\n",
        "!wget http://groups.tecnico.ulisboa.pt/speechproc/pf24/lab2/dev.tgz\n",
        "!tar -xzvf dev.tgz\n",
        "\n",
        "#download evl\n",
        "!wget http://groups.tecnico.ulisboa.pt/speechproc/pf24/lab2/evl.tgz\n",
        "!tar -xzvf evl.tgz\n",
        "\n",
        "os.chdir(CWD)"
      ]
    },
    {
      "cell_type": "markdown",
      "metadata": {
        "id": "qpJixtppLXuF"
      },
      "source": [
        "## 2.1 Using pre-trained speaker embeddings (x-vectors)\n",
        "\n",
        "The goal of this part of the lab is to get familiar with and show how to use pre-trained speaker embedings (a.k.a. x-vectors) for speech classification tasks.\n",
        "\n",
        "There exist plenty of resources and pre-trained models that can be  useful for our task. In particular, x-vectors are the current state of the art approach to obtain speech embeddings that characterize very efficiently speaker or language, among others. X-vectors are neural models typically trained for speaker identification in a supervised way, but also in some cases for other related tasks, like language recognition. Once trained, they can be used to obtain a single embedding vector of fixed dimension for each audio input. This vector corresponds to the activations of one of the layers after the pooling layer.\n",
        "\n",
        "The following are examples of x-vector models available in the `speechbrain` module:\n",
        "\n",
        "- `speechbrain/spkrec-ecapa-voxceleb`: trained using a large speaker corpus for speaker verification: https://huggingface.co/speechbrain/spkrec-ecapa-voxceleb\n",
        "\n",
        "- `speechbrain/lang-id-voxlingua107-ecapa`: trained using a large corpus of 107 languages for language identification: https://huggingface.co/speechbrain/lang-id-voxlingua107-ecapa\n",
        "\n",
        "- `speechbrain/lang-id-commonlanguage_ecapa`: trained using a large corpus of 45 languages for language identification: https://huggingface.co/speechbrain/lang-id-commonlanguage_ecapa\n"
      ]
    },
    {
      "cell_type": "markdown",
      "metadata": {
        "id": "Rbji5ImtLXuF"
      },
      "source": [
        "The following code cell shows how to import one of those models to obtain an embedding vector:"
      ]
    },
    {
      "cell_type": "code",
      "execution_count": null,
      "metadata": {
        "colab": {
          "base_uri": "https://localhost:8080/",
          "height": 177,
          "referenced_widgets": [
            "f8ae9d916b174076bb979b5105581f76",
            "e881de89631441f3a8a320ebea4704ee",
            "0440b1add3dc46eda1949942873cac45",
            "5e4130bdd7c2443ea5d53896f497ce73",
            "78652cc9bb0f42e1bf602bf1e2e48f1c",
            "6cdfe6e529a849e4a1a460ae4e777e0c",
            "0333a543555344b2a76e03045f78319c",
            "c2bd4994bd604739920f38377cbe573f",
            "22904ed7d9dd40a48892af06f76791de",
            "096a1b1c0e1b41d1b26a61c4182bd5cb",
            "399f8bdaa30147d39a6a75676d939700",
            "4839126a0ca644899a4606f39837bd92",
            "def0c4272a4546bbb97d3775157552fc",
            "ad8181de96a7453e8f5b7022512f0854",
            "fe580b8e75a0489db7fa7d665d91c975",
            "e83cc5b472a247c19ff1064317eade0d",
            "34878cb9a2c041789ccbe20a40f7201a",
            "3520827badae44ea8e19caacd2db88e5",
            "1eda0c3d0400447a9ba572cf0046300e",
            "e59e9b7c63614e72832d3bdbab368695",
            "27573c8670114a3f821199dd3747b63e",
            "468cd413b70a4d39bb8cd2e10dd3dcca",
            "461de20d36e6496896cb8a2a77b95060",
            "031e29b03b104a8fb30238978e52cbb2",
            "25665d09cb6048bca53f14cab30a305b",
            "56ade9b8abfb4524945426472b420f55",
            "e2ea418592a948248a55bf94dc0ff4f0",
            "7024faffba154afc996a4b7e75cac05d",
            "f7b1cffc8e624c12a90dd200c34321cd",
            "cc6d9b192d8542b2834542156367036d",
            "af4853bf4afd4b7e9af9d61f109114ed",
            "370b5e7798904ceba542c9ab7ea6556c",
            "aed624435caf498b88299eed96db4051",
            "f361cf3247014b5fbc245a38c1dff60f",
            "fadb93b8899b4169935b04bbf16d7a8e",
            "d6c7967d40b948aca7dcc92ce13d8912",
            "38b4664922c342b6b92bc5b46ba0f968",
            "89ffaf53004a4eb385fa8111dfb31e3c",
            "f37bced7d40141919fbbc93ded1508f7",
            "7afa5a0736794ec68cffa4e4fc32d3f0",
            "ba1263aa0e5f460ebfd396571033b31b",
            "87afcf4ff92e4f3a997319fa224fb2fc",
            "fbce040f265a463689d79fba1fac3869",
            "2dafe737d9fe43bc9ce31464c0a20cda",
            "b5773facc6e943d5b5a72dbfd5f1c178",
            "bbcacbd0cff24a27b037d03bacdaff7a",
            "187fcd49287544aa83fe758d055d6cfa",
            "61a91c5b4134497eb66095bd5ae62ffd",
            "3b568972d23445a3a00e40d3d9066d3a",
            "41a7410ce9d4495e9eb96274faf8a5ca",
            "93e2877b1edb43d19c97ee6a51cefb3c",
            "4e159ea5ce9b483c9306013b73819c25",
            "9c661dcf67cd445b9b808d1ad36d3bb7",
            "ff86b38870684e9ca35462c4b2ee06e9",
            "8440fb490bbb4234bdb21470a7a46177"
          ]
        },
        "id": "LmcYa-uELXuF",
        "outputId": "b24545f2-755b-4ba2-9755-2bd2434e9c7f"
      },
      "outputs": [
        {
          "data": {
            "application/vnd.jupyter.widget-view+json": {
              "model_id": "f8ae9d916b174076bb979b5105581f76",
              "version_major": 2,
              "version_minor": 0
            },
            "text/plain": [
              "hyperparams.yaml:   0%|          | 0.00/1.92k [00:00<?, ?B/s]"
            ]
          },
          "metadata": {},
          "output_type": "display_data"
        },
        {
          "data": {
            "application/vnd.jupyter.widget-view+json": {
              "model_id": "4839126a0ca644899a4606f39837bd92",
              "version_major": 2,
              "version_minor": 0
            },
            "text/plain": [
              "embedding_model.ckpt:   0%|          | 0.00/83.3M [00:00<?, ?B/s]"
            ]
          },
          "metadata": {},
          "output_type": "display_data"
        },
        {
          "data": {
            "application/vnd.jupyter.widget-view+json": {
              "model_id": "461de20d36e6496896cb8a2a77b95060",
              "version_major": 2,
              "version_minor": 0
            },
            "text/plain": [
              "mean_var_norm_emb.ckpt:   0%|          | 0.00/1.92k [00:00<?, ?B/s]"
            ]
          },
          "metadata": {},
          "output_type": "display_data"
        },
        {
          "data": {
            "application/vnd.jupyter.widget-view+json": {
              "model_id": "f361cf3247014b5fbc245a38c1dff60f",
              "version_major": 2,
              "version_minor": 0
            },
            "text/plain": [
              "classifier.ckpt:   0%|          | 0.00/5.53M [00:00<?, ?B/s]"
            ]
          },
          "metadata": {},
          "output_type": "display_data"
        },
        {
          "data": {
            "application/vnd.jupyter.widget-view+json": {
              "model_id": "b5773facc6e943d5b5a72dbfd5f1c178",
              "version_major": 2,
              "version_minor": 0
            },
            "text/plain": [
              "label_encoder.txt:   0%|          | 0.00/129k [00:00<?, ?B/s]"
            ]
          },
          "metadata": {},
          "output_type": "display_data"
        }
      ],
      "source": [
        "\n",
        "xvector_model = EncoderClassifier.from_hparams(source=\"speechbrain/spkrec-ecapa-voxceleb\", savedir=f\"{CWD}/tmp\")\n",
        "\n",
        "signal = xvector_model.load_audio(f'{DATADIR}/train100/audio/train_0005.wav')\n",
        "emb =  xvector_model.encode_batch(signal)\n"
      ]
    },
    {
      "cell_type": "markdown",
      "metadata": {
        "id": "gGZMv7ujLXuG"
      },
      "source": [
        "These (very informative) embedding vectors can be used to train simple models for several speech classification tasks, achieving excellent results. In particular, in this lab assignment, we will train a simple linear SVM on top of these x-vectors."
      ]
    },
    {
      "cell_type": "markdown",
      "metadata": {
        "id": "DtzAiMQgLXuG"
      },
      "source": [
        "### 2.1.1 Extracting x-vectors for the ETS datasets\n",
        "\n",
        "Just like in Part1, we will code the feature transformation to process all data and obtain x-vectors. In this case, the function should receive as arguments the audio filename and an instance of `EncoderClassifier` (the x-vector model) and return the numpy array with the features. You must complete the following code using the previous example:"
      ]
    },
    {
      "cell_type": "code",
      "execution_count": null,
      "metadata": {
        "colab": {
          "base_uri": "https://localhost:8080/"
        },
        "id": "F4VvwkM8LXuG",
        "outputId": "3d3805c9-0970-4eef-c93b-4b3591bd20ed"
      },
      "outputs": [
        {
          "data": {
            "text/plain": [
              "((1, 192), numpy.ndarray)"
            ]
          },
          "execution_count": 6,
          "metadata": {},
          "output_type": "execute_result"
        }
      ],
      "source": [
        "\n",
        "\n",
        "# This function receives a filename and one encoder model\n",
        "# (for instance, xvector_model object in previous cell example) and returns\n",
        "# the extracted x-vectors as a numpy array of shape (1, embedding_dimension).\n",
        "# Notice that the encoder extractor module generates a softlink to each audio\n",
        "# file. To avoid generating \"junk\", you can delete this link also in the\n",
        "# function\n",
        "\n",
        "def extract_xvec(filename, emb_model):\n",
        "    # LABWORK :: CODE TO INSERT HERE\n",
        "    signal = emb_model.load_audio(filename)\n",
        "    embedding =  emb_model.encode_batch(signal)\n",
        "    embedding = embedding.squeeze()\n",
        "    embedding = embedding.numpy().reshape(1, -1)\n",
        "\n",
        "    # Remove the \"annoying\" soft-link\n",
        "    _, fl = split_path(filename)\n",
        "    if os.path.islink(fl):\n",
        "        os.remove(fl)\n",
        "    return embedding\n",
        "\n",
        "# This must return a numpy array of shape (1,256).\n",
        "# The 256 may depend on the specific model\n",
        "emb = extract_xvec(f'{DATADIR}/train100/audio/train_0005.wav' , xvector_model)\n",
        "\n",
        "# Check that this shape and type\n",
        "emb.shape, type(emb)"
      ]
    },
    {
      "cell_type": "markdown",
      "metadata": {
        "id": "NuCqujbiLXuG"
      },
      "source": [
        "Let's generate the x-vectors for all our data sets using the ETS class and store in disk. Like in Part 1, we can keep different transformation configurations in a dictionary for later usage. In this assignment, you can try to different x-vector models."
      ]
    },
    {
      "cell_type": "code",
      "execution_count": null,
      "metadata": {
        "id": "vYPEPbIWLXuG",
        "colab": {
          "base_uri": "https://localhost:8080/"
        },
        "outputId": "023d2abc-ae4b-4be9-ee90-3adf7e32db4b"
      },
      "outputs": [
        {
          "output_type": "stream",
          "name": "stderr",
          "text": [
            "/content/pf_tools.py:90: UserWarning: The feature directory already exists, and no new feature extraction will be performed.\n",
            "  warnings.warn(\"The feature directory already exists, and no new feature extraction will be performed.\")\n"
          ]
        }
      ],
      "source": [
        "# para speaker identification\n",
        "transform = {\n",
        "                'spkrec-ecapa-voxceleb' : # <--- You chan look for different models in speechbrain\n",
        "                {\n",
        "                    'audio_transform':\n",
        "                        lambda x : extract_xvec(x,\n",
        "                            emb_model = EncoderClassifier.from_hparams(\n",
        "                                        source=\"speechbrain/spkrec-ecapa-voxceleb\", # <--- You chan look for different models in speechbrain\n",
        "                                        savedir=f\"{CWD}/tmp/spkrec-ecapa-voxceleb\"\n",
        "                                        )\n",
        "                            ), ## <--- You need to modify this here\n",
        "                    'chunk_transform': None,\n",
        "                    'chunk_size': 0,\n",
        "                    'chunk_hop':0\n",
        "                }\n",
        "            }\n",
        "\n",
        "# para linguagem\n",
        "transform['lang-id-voxlingua107-ecapa'] = {\n",
        "                    'audio_transform':\n",
        "                        lambda x : extract_xvec(x,\n",
        "                            emb_model = EncoderClassifier.from_hparams(\n",
        "                                        source=\"speechbrain/lang-id-voxlingua107-ecapa\", # <--- You chan look for different models in speechbrain\n",
        "                                        savedir=f\"{CWD}/tmp/lang-id-voxlingua107-ecapa\"\n",
        "                                        )\n",
        "                            ), ## <--- You need to modify this here\n",
        "                    'chunk_transform': None,\n",
        "                    'chunk_size': 0,\n",
        "                    'chunk_hop':0\n",
        "                }\n",
        "\n",
        "# Download and feature extract\n",
        "trainset = 'train100'\n",
        "transform_id = 'lang-id-voxlingua107-ecapa' # Mudar este id e ver modelos disponeis no speechbrain\n",
        "\n",
        "train_ets = ETS(DATADIR, trainset,\n",
        "                 transform_id=transform_id,\n",
        "                 audio_transform=transform[transform_id]['audio_transform'],\n",
        "                 chunk_transform=transform[transform_id]['chunk_transform'],\n",
        "                 chunk_size=transform[transform_id]['chunk_size'],\n",
        "                 chunk_hop=transform[transform_id]['chunk_hop']\n",
        "                )\n",
        "\n",
        "dev_ets = ETS(DATADIR, 'dev',\n",
        "                 transform_id=transform_id,\n",
        "                 audio_transform=transform[transform_id]['audio_transform'],\n",
        "                 chunk_transform=transform[transform_id]['chunk_transform'],\n",
        "                 chunk_size=transform[transform_id]['chunk_size'],\n",
        "                 chunk_hop=transform[transform_id]['chunk_hop']\n",
        "                )\n",
        "\n",
        "evl_ets = ETS(DATADIR, 'evl',\n",
        "                 transform_id=transform_id,\n",
        "                 audio_transform=transform[transform_id]['audio_transform'],\n",
        "                 chunk_transform=transform[transform_id]['chunk_transform'],\n",
        "                 chunk_size=transform[transform_id]['chunk_size'],\n",
        "                 chunk_hop=transform[transform_id]['chunk_hop']\n",
        "                )"
      ]
    },
    {
      "cell_type": "markdown",
      "metadata": {
        "id": "qAirPbb4LXuG"
      },
      "source": [
        "### 2.1.2 Training the SVM model\n",
        "\n",
        "As mentioned before, our native language identification system will be a simple SVM model (4-classes) using x-vectors as features. Similarly to Part 1, we must iterate the ETS data instances to store the x-vectors and the labels in numpy arrays:"
      ]
    },
    {
      "cell_type": "code",
      "execution_count": null,
      "metadata": {
        "colab": {
          "base_uri": "https://localhost:8080/"
        },
        "id": "WRDtO03qLXuH",
        "outputId": "51454f1e-06b2-402f-eea7-6640a018657a"
      },
      "outputs": [
        {
          "output_type": "stream",
          "name": "stdout",
          "text": [
            "Finished reading all data in 148.4540934562683\n",
            "Finished reading all data in 87.77154755592346\n",
            "Finished reading all data in 62.108843088150024\n"
          ]
        }
      ],
      "source": [
        "# Place train data and reference in a single array train_data and train_label\n",
        "start = time.time()\n",
        "train_data = []\n",
        "train_labels = []\n",
        "for data, label, basename in train_ets:\n",
        "        train_data.append(data)\n",
        "        train_labels.append(np.full(data.shape[0], label))\n",
        "\n",
        "train_data = np.concatenate(train_data)\n",
        "train_labels = np.concatenate(train_labels)\n",
        "\n",
        "print(f'Finished reading all data in {time.time() - start}')\n",
        "\n",
        "# Place dev data and reference in a single array dev_data and dev_label\n",
        "start = time.time()\n",
        "dev_data = []\n",
        "dev_labels = []\n",
        "dev_filenames = []\n",
        "for data, label, basename in dev_ets:\n",
        "        dev_data.append(data)\n",
        "        dev_labels.append(np.full(data.shape[0], label))\n",
        "        dev_filenames.append(basename)\n",
        "\n",
        "dev_data = np.concatenate(dev_data)\n",
        "dev_labels = np.concatenate(dev_labels)\n",
        "\n",
        "print(f'Finished reading all data in {time.time() - start}')\n",
        "\n",
        "# Place evl data and reference in a single array evl_data\n",
        "start = time.time()\n",
        "evl_data = []\n",
        "evl_filenames = []\n",
        "for data, label, basename in evl_ets:\n",
        "        evl_data.append(data)\n",
        "        evl_filenames.append(basename)\n",
        "\n",
        "evl_data = np.concatenate(evl_data)\n",
        "\n",
        "print(f'Finished reading all data in {time.time() - start}')"
      ]
    },
    {
      "cell_type": "markdown",
      "metadata": {
        "id": "0XE_gaqJLXuH"
      },
      "source": [
        "Now, we will use `sklearn` linear SVM to train our classifier and save it for later use."
      ]
    },
    {
      "cell_type": "code",
      "execution_count": null,
      "metadata": {
        "colab": {
          "base_uri": "https://localhost:8080/",
          "height": 245
        },
        "id": "lprxmtYTLXuH",
        "outputId": "928399a6-8bc1-480b-e614-61ad447345cc"
      },
      "outputs": [
        {
          "output_type": "stream",
          "name": "stderr",
          "text": [
            "/usr/local/lib/python3.10/dist-packages/sklearn/svm/_base.py:1244: ConvergenceWarning: Liblinear failed to converge, increase the number of iterations.\n",
            "  warnings.warn(\n"
          ]
        },
        {
          "output_type": "error",
          "ename": "FileExistsError",
          "evalue": "[Errno 17] File exists: '/content/drive/MyDrive/Lab2_PF/ets_data//train100/models//svm_lang-id-voxlingua107-ecapa'",
          "traceback": [
            "\u001b[0;31m---------------------------------------------------------------------------\u001b[0m",
            "\u001b[0;31mFileExistsError\u001b[0m                           Traceback (most recent call last)",
            "\u001b[0;32m<ipython-input-16-741ca2f4ee27>\u001b[0m in \u001b[0;36m<cell line: 9>\u001b[0;34m()\u001b[0m\n\u001b[1;32m      7\u001b[0m \u001b[0;34m\u001b[0m\u001b[0m\n\u001b[1;32m      8\u001b[0m \u001b[0mmodel_name\u001b[0m \u001b[0;34m=\u001b[0m \u001b[0;34mf'{model_path}/svm_{transform_id}'\u001b[0m\u001b[0;34m\u001b[0m\u001b[0;34m\u001b[0m\u001b[0m\n\u001b[0;32m----> 9\u001b[0;31m \u001b[0mos\u001b[0m\u001b[0;34m.\u001b[0m\u001b[0mmkdir\u001b[0m\u001b[0;34m(\u001b[0m\u001b[0;34mf'{model_name}'\u001b[0m\u001b[0;34m)\u001b[0m\u001b[0;34m\u001b[0m\u001b[0;34m\u001b[0m\u001b[0m\n\u001b[0m\u001b[1;32m     10\u001b[0m \u001b[0;34m\u001b[0m\u001b[0m\n\u001b[1;32m     11\u001b[0m \u001b[0mpickle\u001b[0m\u001b[0;34m.\u001b[0m\u001b[0mdump\u001b[0m\u001b[0;34m(\u001b[0m\u001b[0mmodel\u001b[0m\u001b[0;34m,\u001b[0m \u001b[0mopen\u001b[0m\u001b[0;34m(\u001b[0m\u001b[0;34mf'{model_name}/model.pkl'\u001b[0m\u001b[0;34m,\u001b[0m \u001b[0;34m'wb'\u001b[0m\u001b[0;34m)\u001b[0m\u001b[0;34m)\u001b[0m\u001b[0;34m\u001b[0m\u001b[0;34m\u001b[0m\u001b[0m\n",
            "\u001b[0;31mFileExistsError\u001b[0m: [Errno 17] File exists: '/content/drive/MyDrive/Lab2_PF/ets_data//train100/models//svm_lang-id-voxlingua107-ecapa'"
          ]
        }
      ],
      "source": [
        "model = LinearSVC() ### <---- a linear SVM\n",
        "model.fit(train_data, train_labels)  ## <---- train MODEL\n",
        "\n",
        "model_path = f'{DATADIR}/{trainset}/models/'\n",
        "if not os.path.isdir(model_path):\n",
        "    os.mkdir(model_path)\n",
        "\n",
        "model_name = f'{model_path}/svm_{transform_id}'\n",
        "os.mkdir(f'{model_name}')\n",
        "\n",
        "pickle.dump(model, open(f'{model_name}/model.pkl', 'wb'))"
      ]
    },
    {
      "cell_type": "markdown",
      "metadata": {
        "id": "j3if13IPLXuH"
      },
      "source": [
        "It should be extremely easy to experiment other models provided in the `sklearn` module, including SVMs with other kernels, Random Forests, etc.\n"
      ]
    },
    {
      "cell_type": "markdown",
      "metadata": {
        "id": "1YL-yT2oLXuH"
      },
      "source": [
        "### 2.1.3 Prediction using the x-vector based model\n",
        "\n",
        "Finally, let's predict on both the dev and evl test sets:"
      ]
    },
    {
      "cell_type": "code",
      "execution_count": null,
      "metadata": {
        "id": "RjD8INUdLXuH"
      },
      "outputs": [],
      "source": [
        "# LOAD THE RIGHT MODEL IF YOU NEED TO:\n",
        "# model_name = 'lang-id-voxlingua107-ecapa'\n",
        "# transform_id = 'lang-id-voxlingua107-ecapa'\n",
        "# trainset = 'train100'\n",
        "\n",
        "model_name = f'{DATADIR}/{trainset}/models//svm_{transform_id}'\n",
        "model = pickle.load(open(f'{model_name}/model.pkl', 'rb'))\n",
        "\n",
        "dev_results = model.predict(dev_data) #  Predict dev\n",
        "evl_results = model.predict(evl_data) #  Predict test"
      ]
    },
    {
      "cell_type": "markdown",
      "metadata": {
        "id": "faH_Dj9fLXuH"
      },
      "source": [
        "We can check the performance on the dev set:"
      ]
    },
    {
      "cell_type": "code",
      "execution_count": null,
      "metadata": {
        "colab": {
          "base_uri": "https://localhost:8080/"
        },
        "id": "ILAF-UkmLXuH",
        "outputId": "220fa8ec-619d-4e3e-e5bb-e70fcddd945f"
      },
      "outputs": [
        {
          "output_type": "stream",
          "name": "stdout",
          "text": [
            "              precision    recall  f1-score   support\n",
            "\n",
            "         CHI       0.93      0.95      0.94        39\n",
            "         GER       0.87      0.91      0.89        44\n",
            "         HIN       0.96      1.00      0.98        47\n",
            "         ITA       0.95      0.85      0.90        46\n",
            "\n",
            "    accuracy                           0.93       176\n",
            "   macro avg       0.93      0.93      0.93       176\n",
            "weighted avg       0.93      0.93      0.93       176\n",
            "\n",
            "0.9261363636363636\n"
          ]
        }
      ],
      "source": [
        "ref, hyp = dev_labels, dev_results\n",
        "print(classification_report(ref, hyp, target_names=LANGUAGES))\n",
        "print(accuracy_score(ref, hyp))"
      ]
    },
    {
      "cell_type": "code",
      "execution_count": null,
      "metadata": {
        "colab": {
          "base_uri": "https://localhost:8080/",
          "height": 363
        },
        "id": "0L07iEGRLXuH",
        "outputId": "ba9fc760-a214-40f6-e640-5a87a7a9cf10"
      },
      "outputs": [
        {
          "output_type": "display_data",
          "data": {
            "text/plain": [
              "<Figure size 300x300 with 1 Axes>"
            ],
            "image/png": "[encoded data removed]"
          },
          "metadata": {}
        }
      ],
      "source": [
        "conf_matrix = confusion_matrix(ref, hyp)\n",
        "\n",
        "fig, ax = plt.subplots(figsize=(3.0, 3.0))\n",
        "ax.matshow(conf_matrix, cmap=plt.cm.Blues, alpha=0.3)\n",
        "for i in range(conf_matrix.shape[0]):\n",
        "    for j in range(conf_matrix.shape[1]):\n",
        "        ax.text(x=j, y=i,s=conf_matrix[i, j], va='center', ha='center')\n",
        "\n",
        "plt.xlabel('Predictions', fontsize=12)\n",
        "plt.ylabel('Actuals', fontsize=12)\n",
        "plt.title(f'Confusion Matrix\\n(Accuracy {100*accuracy_score(ref, hyp):.2f})', fontsize=12)\n",
        "plt.show()"
      ]
    },
    {
      "cell_type": "markdown",
      "metadata": {
        "id": "KEKc3u16LXuI"
      },
      "source": [
        "If things went as expected, you should around 85% accuracy result!!\n",
        "\n",
        "At this point, you can explore different x-vector model configurations for feature extraction and alternative models to the linear SVM. Notice that it may be difficult to improve this strong system. Finally, you can generate the final prediction file and make a submission to the  [Kaggle competition](https://www.kaggle.com/t/312cd4200cfb4e138ea9372ce5bc33fd):"
      ]
    },
    {
      "cell_type": "code",
      "execution_count": null,
      "metadata": {
        "id": "f5RJaEsXLXuI"
      },
      "outputs": [],
      "source": [
        "trainset = 'train100' ## <--- CHANGE THIS ACCORDINGLY\n",
        "transform_id = 'lang-id-voxlingua107-ecapa' ## <--- CHANGE THIS ACCORDINGLY\n",
        "\n",
        "group, system = '13', f'svm_{trainset}_{transform_id}'\n",
        "with open(f'{CWD}/g{group}_{system}.csv', 'w') as file:\n",
        "    csv_writer = csv.writer(file) # CSV writer\n",
        "    csv_writer.writerow(('fileId', 'Lang')) # Header of the CSV\n",
        "\n",
        "    # Save dev results\n",
        "    for lang, file in zip(dev_results, dev_filenames):\n",
        "        csv_writer.writerow((file, LANG2ID[lang]))\n",
        "    # Save evl results\n",
        "    for lang, file in zip(evl_results, evl_filenames):\n",
        "        csv_writer.writerow((file, LANG2ID[lang]))\n"
      ]
    },
    {
      "cell_type": "markdown",
      "metadata": {
        "id": "xeKt5tUvLXuI"
      },
      "source": [
        "## 2.2 Using self-supervised pre-trained models\n",
        "\n",
        "The goal of this part of the laboratory is to expose students to modern tools and methods for speech classification.\n",
        "In particular, we will use the [s3prl](https://github.com/s3prl/s3prl) toolkit to build a native language identification system based on self-supervised learning (SSL) models as feature extraction.\n",
        "\n",
        "[s3prl](https://github.com/s3prl/s3prl) is an open source toolkit, which stands for Self-Supervised Speech Pre-training and Representation Learning. Self-supervised speech pre-trained models are called upstream in this toolkit and are utilized in various downstream tasks.\n",
        "\n",
        "The toolkit permits pre-training upstream models, load already pre-trained upstream models and/or utilize these upstream models in lots of downstream tasks already defined.\n",
        "\n",
        "For this lab, the faculty team configured a downstream task and a simple model specifically for our native language identification task and data. The model consists of a projection layer, followed by an average pooling, and a linear output layer.\n",
        "\n",
        "In this part of the lab, students are  expected to *play* with the different upstream models to build the best possible native language identification system.\n",
        "In particular, students are encouraged to explore and discover which of the available SSL models can be a better candidate for their classification system. Note that using a large SSL model will make the training process very slow. So, you must choose wisely depending for instance on the reported performance in similar tasks.\n",
        "\n",
        "Besides playing with the different upstream models, interested students can try to modify some of the details of the \"expert\" downstream model. This can be done following some of the many examples already included in the toolkit as a starting point, but it may be challenging.\n",
        "\n",
        "**In contrast to the x-vector based system and the notebook of Part 1, for the SSL system, we will make use of some Python scripts that are part of the S3PRL framework. These are typically run in a terminal, so, some of the following steps may be simpler to run in a terminal, rather than as cell in the Notebook itself.**"
      ]
    },
    {
      "cell_type": "markdown",
      "metadata": {
        "id": "I6HnVJePLXuI"
      },
      "source": [
        "### 2.2.1 Installing the S3PRL toolkit\n",
        "Let's start by cloning the repository of the `s3prl` toolkit:"
      ]
    },
    {
      "cell_type": "code",
      "execution_count": null,
      "metadata": {
        "colab": {
          "base_uri": "https://localhost:8080/"
        },
        "id": "er4OCadKLXuI",
        "outputId": "ae1e86d7-daf4-4dc3-caf5-ad7cf932fd43"
      },
      "outputs": [
        {
          "output_type": "stream",
          "name": "stdout",
          "text": [
            "Cloning into 's3prl'...\n",
            "remote: Enumerating objects: 29723, done.\u001b[K\n",
            "remote: Counting objects: 100% (2895/2895), done.\u001b[K\n",
            "remote: Compressing objects: 100% (796/796), done.\u001b[K\n",
            "remote: Total 29723 (delta 2211), reused 2706 (delta 2082), pack-reused 26828\u001b[K\n",
            "Receiving objects: 100% (29723/29723), 137.10 MiB | 19.17 MiB/s, done.\n",
            "Resolving deltas: 100% (21553/21553), done.\n",
            "Updating files: 100% (975/975), done.\n"
          ]
        }
      ],
      "source": [
        "!git clone https://github.com/s3prl/s3prl.git"
      ]
    },
    {
      "cell_type": "markdown",
      "metadata": {
        "id": "48MEVc1mLXuI"
      },
      "source": [
        "A new folder named  `s3prl/` with the contents of the toolkit has been created. We'll now install the toolkit itself."
      ]
    },
    {
      "cell_type": "code",
      "execution_count": null,
      "metadata": {
        "id": "4kB-CSK5LXuI"
      },
      "outputs": [],
      "source": [
        "S3PRLDIR = CWD + '/s3prl/'\n",
        "os.chdir(S3PRLDIR)\n",
        "!pip install -e ."
      ]
    },
    {
      "cell_type": "markdown",
      "metadata": {
        "id": "9a7EQEhCLXuI"
      },
      "source": [
        "### 2.2.2 Configuring the downstream task\n",
        "Let's create the downstream native language identification task. In the `s3prl/downstream/` there are plenty of examples. The faculty team took one of those as an example to create the configuration needed for this lab assignment. Let's download and copy it to the downstream folder:"
      ]
    },
    {
      "cell_type": "code",
      "execution_count": null,
      "metadata": {
        "id": "5KnLZUBCLXuI"
      },
      "outputs": [],
      "source": [
        "os.chdir(f'{S3PRLDIR}/s3prl/downstream/') #  change to the downstream folder\n",
        "!wget http://groups.tecnico.ulisboa.pt/speechproc/pf24/lab2/nli_s3prl_downstream.tgz # <--- download the lab specific downstream task\n",
        "!tar -xzvf nli_s3prl_downstream.tgz  #  unzip\n",
        "!rm nli_s3prl_downstream.tgz\n",
        "os.chdir(S3PRLDIR)"
      ]
    },
    {
      "cell_type": "markdown",
      "metadata": {
        "id": "fJejQyx7LXuI"
      },
      "source": [
        "Have a look to the contents of the folder `s3prl/downstream/native_language_identification/`. There are some important files that help to define the task:\n",
        "- `dataset.py`: this file provides the class that permits loading the ETS data. Something similar to the ETS class used in previously, but following the formatting rules of the s3prl toolkit. **You don't need to change anything here**.\n",
        "- `expert.py`: this file defines the expert downstream task. In this case, the expert takes the output of the upstream model (configurable), applies a projection layer, and then a classification model (configurable) to obtain the final predictions. **You don't need to change anything here**.\n",
        "- `model.py`: this file contains the definitions of the model after the projection. We could include several configurations that can later be selected when we run the actual experiment. The model included is just an average pooling (that reduces the time dimension to a single vector) followed by a linear output layer. **You don't need to change anything here, but you may want to explore other configurations following the examples of other downstream tasks included in s3prl**.\n",
        "- `config.yaml`: this file permits configuring some parameters of your experiment, including the path that contains the task data and the training set that is going to be used (either train or train100)."
      ]
    },
    {
      "cell_type": "markdown",
      "metadata": {
        "id": "D2Qk49KfLXuI"
      },
      "source": [
        "Let's configure our experiment:\n",
        "\n",
        "Edit the 'file_path' entry in the configuration file `downstream/native_language_identification/config.yaml` to the folder containing the data:\n",
        "\n",
        "```yaml\n",
        "downstream_expert:\n",
        "    datarc:\n",
        "        file_path: \"your_path/ets_data\"\n",
        "```\n"
      ]
    },
    {
      "cell_type": "markdown",
      "metadata": {
        "id": "05wFhIXWLXuJ"
      },
      "source": [
        "\n",
        "And also edit the config file, to use either the \"train100\" partition or the total training data \"train\"  by just editing the following entry of the `downstream/native_language_identification/config.yaml`:\n",
        "\n",
        "```yaml\n",
        "downstream_expert:\n",
        "    datarc:\n",
        "        ...\n",
        "        train: \"train100\"\n",
        "```\n",
        "\n",
        "You may also want to reduce the number of training steps to 1000 or 2000 for quick experimentation of different configurations:\n",
        "\n",
        "```yaml\n",
        "runner:\n",
        "  total_steps: 5000\n",
        "  ...\n",
        "```"
      ]
    },
    {
      "cell_type": "markdown",
      "metadata": {
        "id": "8QiglicWLXuJ"
      },
      "source": [
        "\n",
        "### 2.2.3 Training the downstream model\n",
        "Now it's time for training. For that, we will use the Pythons script `run_downstream.py` in train mode and in which we will set:\n",
        "- an arbitrary name for identifying this experiment, in which the results will be saved ( `ExpName`)\n",
        "- the upstream model to be used, for instance, `fbank`. You can check for more SSL pretrained available models  here https://s3prl.github.io/s3prl/tutorial/upstream_collection.html\n",
        "- the downstream task, in this case \"native_language_identification\"\n",
        "\n",
        "\n",
        "```bash\n",
        "python3 run_downstream.py -n ExpName -m train -u fbank -d native_language_identification\n",
        "```\n",
        "\n",
        "Since this can take a while (actually, a lot depending on the chosen upstream model and your  computational resources), you probably want to run this in a terminal, rather than inside the Notebook:\n"
      ]
    },
    {
      "cell_type": "code",
      "execution_count": null,
      "metadata": {
        "id": "tft-dzG_LXuJ"
      },
      "outputs": [],
      "source": [
        "os.chdir(f'{S3PRLDIR}/s3prl')\n",
        "!python3 run_downstream.py -n fbank -m train -u fbank -d native_language_identification"
      ]
    },
    {
      "cell_type": "markdown",
      "metadata": {
        "id": "pZr0_BIGLXuK"
      },
      "source": [
        "\n",
        "HINT: if the training process is interrupted for some reason, you can continue from the last saved checkpoint (a checkpoint is saved every 200 iterations):\n",
        "\n",
        "```bash\n",
        "python3 run_downstream.py -m train -e result/downstream/fbank/states-XXXX.ckpt\n",
        "```\n",
        "\n",
        "### 2.2.4 Classification and performance of the dev set\n",
        "\n",
        "The training process created a folder containing some training results `result/downstream/{ExpName}`:"
      ]
    },
    {
      "cell_type": "code",
      "execution_count": null,
      "metadata": {
        "id": "SalMnbBJLXuK"
      },
      "outputs": [],
      "source": [
        "\n",
        "os.chdir(f'{S3PRLDIR}/s3prl')\n",
        "!ls result/downstream/fbank/"
      ]
    },
    {
      "cell_type": "markdown",
      "metadata": {
        "id": "NiC700FhLXuK"
      },
      "source": [
        "Some interesting files:\n",
        "- `dev_predict.txt` contains the predictions on the dev set,\n",
        "- `dev-best.ckpt` contains the model parameters for the best checkpoint,\n",
        "- `log.log` contains information of the training process, including the identification accuracy in the train and dev sets.\n",
        "\n",
        "Let's load the prediction and reference files to compute the performance of our system:"
      ]
    },
    {
      "cell_type": "code",
      "execution_count": null,
      "metadata": {
        "id": "0wCcONIDLXuK"
      },
      "outputs": [],
      "source": [
        "hyp = [line.strip().split()[-1] for line in open(f'result/downstream/fbank/dev_predict.txt')]\n",
        "ref = [line.strip().split()[-1] for line in open(f'result/downstream/fbank/dev_truth.txt')]\n",
        "\n",
        "print(classification_report(ref, hyp, target_names=LANGUAGES))\n",
        "print(accuracy_score(ref, hyp))"
      ]
    },
    {
      "cell_type": "markdown",
      "metadata": {
        "id": "QaF6KkbeLXuK"
      },
      "source": [
        "That was disappointing!! The `fbank` is **a very bad upstream model!!!**.\n",
        "\n",
        "The goal of this lab is for you to get familiar with and experiment with some of the most popular speech SSL models. You can start with those commented in the theoretical lessons or the ones that have shown good performance in similar tasks. Be careful (and wise) in your decisions: experiments may be slow!"
      ]
    },
    {
      "cell_type": "markdown",
      "metadata": {
        "id": "vRtL_rBELXuK"
      },
      "source": [
        "### 2.2.5 Classification of the evl set\n",
        "\n",
        "Now that we already trained our downstream model, we can use it to predict  the blind evl set. For this purpose, we will use again the `run_downstream.py` script in evaluate mode and we need to select the actual model to use:\n",
        "\n",
        "\n",
        "```bash\n",
        "python3 run_downstream.py -m evaluate -e result/downstream/fbank/dev-best.ckpt\n",
        "```\n",
        "\n",
        "NOTE: Ignore the test accuracy reported at the end (we  don't have the groundtruth)."
      ]
    },
    {
      "cell_type": "code",
      "execution_count": null,
      "metadata": {
        "id": "qeALe2C2LXuK"
      },
      "outputs": [],
      "source": [
        "!python3 run_downstream.py -m evaluate -e result/downstream/fbank/dev-best.ckpt"
      ]
    },
    {
      "cell_type": "markdown",
      "metadata": {
        "id": "4p89geezLXuK"
      },
      "source": [
        "The `test_predict.txt` file contains the predictions of this model for the evl set."
      ]
    },
    {
      "cell_type": "markdown",
      "metadata": {
        "id": "cUl6ApALLXuK"
      },
      "source": [
        "### 2.2.6 Create the final predictions file and submit to the challenge\n",
        "\n",
        "Like in Part 1, we will create the predictions file in the expected format:"
      ]
    },
    {
      "cell_type": "code",
      "execution_count": null,
      "metadata": {
        "id": "jLoRIuVCLXuK"
      },
      "outputs": [],
      "source": [
        "\n",
        "trainset = 'train100'\n",
        "upstream_id = 'fbank' ## <--- CHANGE THIS ACCORDINGLY\n",
        "group, system = '13', f'ssl_{trainset}_{upstream_id}'\n",
        "\n",
        "filename_dev = f'{S3PRLDIR}/s3prl/result/downstream/{upstream_id}/dev_predict.txt'\n",
        "filename_evl = f'{S3PRLDIR}/s3prl/result/downstream/{upstream_id}/test_predict.txt'\n",
        "\n",
        "\n",
        "with open(f'{CWD}/g{group}_{system}.csv', 'w') as file:\n",
        "\n",
        "    csv_writer = csv.writer(file) # CSV writer\n",
        "    csv_writer.writerow(('fileId', 'Lang')) # Header of the CSV\n",
        "\n",
        "    results_dev = [l.strip().split() for l in open(filename_dev, 'r')]\n",
        "    results_evl = [l.strip().split() for l in open(filename_evl, 'r')]\n",
        "\n",
        "    # Save dev results\n",
        "    for file_id, lang in results_dev:\n",
        "        file_id = file_id.split('-')[-1]\n",
        "        lang = LANG2ID[lang]\n",
        "        csv_writer.writerow((file_id, lang))\n",
        "\n",
        "    # Save evl results\n",
        "    for file_id, lang in results_evl:\n",
        "        file_id = file_id.split('-')[-1]\n",
        "        lang = LANG2ID[lang]\n",
        "        csv_writer.writerow((file_id, lang))"
      ]
    },
    {
      "cell_type": "markdown",
      "metadata": {
        "id": "TPoNRrkiLXuL"
      },
      "source": [
        "Finally, you can submit your prediction(s) in the  [Kaggle competition](https://www.kaggle.com/t/312cd4200cfb4e138ea9372ce5bc33fd).\n",
        "\n"
      ]
    },
    {
      "cell_type": "markdown",
      "metadata": {
        "id": "n472QH8NLXuL"
      },
      "source": [
        "# Contacts and support\n",
        "You can contact the professors during the classes or the office hours.\n",
        "\n",
        "Particularly, for this second laboratory assignment, you should contact Prof. Alberto Abad: alberto.abad@tecnico.ulisboa.pt\n",
        "\n",
        "\n"
      ]
    }
  ],
  "metadata": {
    "accelerator": "GPU",
    "colab": {
      "gpuType": "T4",
      "provenance": []
    },
    "kernelspec": {
      "display_name": "Python 3",
      "name": "python3"
    },
    "language_info": {
      "codemirror_mode": {
        "name": "ipython",
        "version": 3
      },
      "file_extension": ".py",
      "mimetype": "text/x-python",
      "name": "python",
      "nbconvert_exporter": "python",
      "pygments_lexer": "ipython3",
      "version": "3.9.6"
    },
    "widgets": {
      "application/vnd.jupyter.widget-state+json": {
        "031e29b03b104a8fb30238978e52cbb2": {
          "model_module": "@jupyter-widgets/controls",
          "model_module_version": "1.5.0",
          "model_name": "HTMLModel",
          "state": {
            "_dom_classes": [],
            "_model_module": "@jupyter-widgets/controls",
            "_model_module_version": "1.5.0",
            "_model_name": "HTMLModel",
            "_view_count": null,
            "_view_module": "@jupyter-widgets/controls",
            "_view_module_version": "1.5.0",
            "_view_name": "HTMLView",
            "description": "",
            "description_tooltip": null,
            "layout": "IPY_MODEL_7024faffba154afc996a4b7e75cac05d",
            "placeholder": "​",
            "style": "IPY_MODEL_f7b1cffc8e624c12a90dd200c34321cd",
            "value": "mean_var_norm_emb.ckpt: 100%"
          }
        },
        "0333a543555344b2a76e03045f78319c": {
          "model_module": "@jupyter-widgets/controls",
          "model_module_version": "1.5.0",
          "model_name": "DescriptionStyleModel",
          "state": {
            "_model_module": "@jupyter-widgets/controls",
            "_model_module_version": "1.5.0",
            "_model_name": "DescriptionStyleModel",
            "_view_count": null,
            "_view_module": "@jupyter-widgets/base",
            "_view_module_version": "1.2.0",
            "_view_name": "StyleView",
            "description_width": ""
          }
        },
        "0440b1add3dc46eda1949942873cac45": {
          "model_module": "@jupyter-widgets/controls",
          "model_module_version": "1.5.0",
          "model_name": "FloatProgressModel",
          "state": {
            "_dom_classes": [],
            "_model_module": "@jupyter-widgets/controls",
            "_model_module_version": "1.5.0",
            "_model_name": "FloatProgressModel",
            "_view_count": null,
            "_view_module": "@jupyter-widgets/controls",
            "_view_module_version": "1.5.0",
            "_view_name": "ProgressView",
            "bar_style": "success",
            "description": "",
            "description_tooltip": null,
            "layout": "IPY_MODEL_c2bd4994bd604739920f38377cbe573f",
            "max": 1920,
            "min": 0,
            "orientation": "horizontal",
            "style": "IPY_MODEL_22904ed7d9dd40a48892af06f76791de",
            "value": 1920
          }
        },
        "096a1b1c0e1b41d1b26a61c4182bd5cb": {
          "model_module": "@jupyter-widgets/base",
          "model_module_version": "1.2.0",
          "model_name": "LayoutModel",
          "state": {
            "_model_module": "@jupyter-widgets/base",
            "_model_module_version": "1.2.0",
            "_model_name": "LayoutModel",
            "_view_count": null,
            "_view_module": "@jupyter-widgets/base",
            "_view_module_version": "1.2.0",
            "_view_name": "LayoutView",
            "align_content": null,
            "align_items": null,
            "align_self": null,
            "border": null,
            "bottom": null,
            "display": null,
            "flex": null,
            "flex_flow": null,
            "grid_area": null,
            "grid_auto_columns": null,
            "grid_auto_flow": null,
            "grid_auto_rows": null,
            "grid_column": null,
            "grid_gap": null,
            "grid_row": null,
            "grid_template_areas": null,
            "grid_template_columns": null,
            "grid_template_rows": null,
            "height": null,
            "justify_content": null,
            "justify_items": null,
            "left": null,
            "margin": null,
            "max_height": null,
            "max_width": null,
            "min_height": null,
            "min_width": null,
            "object_fit": null,
            "object_position": null,
            "order": null,
            "overflow": null,
            "overflow_x": null,
            "overflow_y": null,
            "padding": null,
            "right": null,
            "top": null,
            "visibility": null,
            "width": null
          }
        },
        "187fcd49287544aa83fe758d055d6cfa": {
          "model_module": "@jupyter-widgets/controls",
          "model_module_version": "1.5.0",
          "model_name": "FloatProgressModel",
          "state": {
            "_dom_classes": [],
            "_model_module": "@jupyter-widgets/controls",
            "_model_module_version": "1.5.0",
            "_model_name": "FloatProgressModel",
            "_view_count": null,
            "_view_module": "@jupyter-widgets/controls",
            "_view_module_version": "1.5.0",
            "_view_name": "ProgressView",
            "bar_style": "success",
            "description": "",
            "description_tooltip": null,
            "layout": "IPY_MODEL_4e159ea5ce9b483c9306013b73819c25",
            "max": 128619,
            "min": 0,
            "orientation": "horizontal",
            "style": "IPY_MODEL_9c661dcf67cd445b9b808d1ad36d3bb7",
            "value": 128619
          }
        },
        "1eda0c3d0400447a9ba572cf0046300e": {
          "model_module": "@jupyter-widgets/base",
          "model_module_version": "1.2.0",
          "model_name": "LayoutModel",
          "state": {
            "_model_module": "@jupyter-widgets/base",
            "_model_module_version": "1.2.0",
            "_model_name": "LayoutModel",
            "_view_count": null,
            "_view_module": "@jupyter-widgets/base",
            "_view_module_version": "1.2.0",
            "_view_name": "LayoutView",
            "align_content": null,
            "align_items": null,
            "align_self": null,
            "border": null,
            "bottom": null,
            "display": null,
            "flex": null,
            "flex_flow": null,
            "grid_area": null,
            "grid_auto_columns": null,
            "grid_auto_flow": null,
            "grid_auto_rows": null,
            "grid_column": null,
            "grid_gap": null,
            "grid_row": null,
            "grid_template_areas": null,
            "grid_template_columns": null,
            "grid_template_rows": null,
            "height": null,
            "justify_content": null,
            "justify_items": null,
            "left": null,
            "margin": null,
            "max_height": null,
            "max_width": null,
            "min_height": null,
            "min_width": null,
            "object_fit": null,
            "object_position": null,
            "order": null,
            "overflow": null,
            "overflow_x": null,
            "overflow_y": null,
            "padding": null,
            "right": null,
            "top": null,
            "visibility": null,
            "width": null
          }
        },
        "22904ed7d9dd40a48892af06f76791de": {
          "model_module": "@jupyter-widgets/controls",
          "model_module_version": "1.5.0",
          "model_name": "ProgressStyleModel",
          "state": {
            "_model_module": "@jupyter-widgets/controls",
            "_model_module_version": "1.5.0",
            "_model_name": "ProgressStyleModel",
            "_view_count": null,
            "_view_module": "@jupyter-widgets/base",
            "_view_module_version": "1.2.0",
            "_view_name": "StyleView",
            "bar_color": null,
            "description_width": ""
          }
        },
        "25665d09cb6048bca53f14cab30a305b": {
          "model_module": "@jupyter-widgets/controls",
          "model_module_version": "1.5.0",
          "model_name": "FloatProgressModel",
          "state": {
            "_dom_classes": [],
            "_model_module": "@jupyter-widgets/controls",
            "_model_module_version": "1.5.0",
            "_model_name": "FloatProgressModel",
            "_view_count": null,
            "_view_module": "@jupyter-widgets/controls",
            "_view_module_version": "1.5.0",
            "_view_name": "ProgressView",
            "bar_style": "success",
            "description": "",
            "description_tooltip": null,
            "layout": "IPY_MODEL_cc6d9b192d8542b2834542156367036d",
            "max": 1921,
            "min": 0,
            "orientation": "horizontal",
            "style": "IPY_MODEL_af4853bf4afd4b7e9af9d61f109114ed",
            "value": 1921
          }
        },
        "27573c8670114a3f821199dd3747b63e": {
          "model_module": "@jupyter-widgets/base",
          "model_module_version": "1.2.0",
          "model_name": "LayoutModel",
          "state": {
            "_model_module": "@jupyter-widgets/base",
            "_model_module_version": "1.2.0",
            "_model_name": "LayoutModel",
            "_view_count": null,
            "_view_module": "@jupyter-widgets/base",
            "_view_module_version": "1.2.0",
            "_view_name": "LayoutView",
            "align_content": null,
            "align_items": null,
            "align_self": null,
            "border": null,
            "bottom": null,
            "display": null,
            "flex": null,
            "flex_flow": null,
            "grid_area": null,
            "grid_auto_columns": null,
            "grid_auto_flow": null,
            "grid_auto_rows": null,
            "grid_column": null,
            "grid_gap": null,
            "grid_row": null,
            "grid_template_areas": null,
            "grid_template_columns": null,
            "grid_template_rows": null,
            "height": null,
            "justify_content": null,
            "justify_items": null,
            "left": null,
            "margin": null,
            "max_height": null,
            "max_width": null,
            "min_height": null,
            "min_width": null,
            "object_fit": null,
            "object_position": null,
            "order": null,
            "overflow": null,
            "overflow_x": null,
            "overflow_y": null,
            "padding": null,
            "right": null,
            "top": null,
            "visibility": null,
            "width": null
          }
        },
        "2dafe737d9fe43bc9ce31464c0a20cda": {
          "model_module": "@jupyter-widgets/controls",
          "model_module_version": "1.5.0",
          "model_name": "DescriptionStyleModel",
          "state": {
            "_model_module": "@jupyter-widgets/controls",
            "_model_module_version": "1.5.0",
            "_model_name": "DescriptionStyleModel",
            "_view_count": null,
            "_view_module": "@jupyter-widgets/base",
            "_view_module_version": "1.2.0",
            "_view_name": "StyleView",
            "description_width": ""
          }
        },
        "34878cb9a2c041789ccbe20a40f7201a": {
          "model_module": "@jupyter-widgets/base",
          "model_module_version": "1.2.0",
          "model_name": "LayoutModel",
          "state": {
            "_model_module": "@jupyter-widgets/base",
            "_model_module_version": "1.2.0",
            "_model_name": "LayoutModel",
            "_view_count": null,
            "_view_module": "@jupyter-widgets/base",
            "_view_module_version": "1.2.0",
            "_view_name": "LayoutView",
            "align_content": null,
            "align_items": null,
            "align_self": null,
            "border": null,
            "bottom": null,
            "display": null,
            "flex": null,
            "flex_flow": null,
            "grid_area": null,
            "grid_auto_columns": null,
            "grid_auto_flow": null,
            "grid_auto_rows": null,
            "grid_column": null,
            "grid_gap": null,
            "grid_row": null,
            "grid_template_areas": null,
            "grid_template_columns": null,
            "grid_template_rows": null,
            "height": null,
            "justify_content": null,
            "justify_items": null,
            "left": null,
            "margin": null,
            "max_height": null,
            "max_width": null,
            "min_height": null,
            "min_width": null,
            "object_fit": null,
            "object_position": null,
            "order": null,
            "overflow": null,
            "overflow_x": null,
            "overflow_y": null,
            "padding": null,
            "right": null,
            "top": null,
            "visibility": null,
            "width": null
          }
        },
        "3520827badae44ea8e19caacd2db88e5": {
          "model_module": "@jupyter-widgets/controls",
          "model_module_version": "1.5.0",
          "model_name": "DescriptionStyleModel",
          "state": {
            "_model_module": "@jupyter-widgets/controls",
            "_model_module_version": "1.5.0",
            "_model_name": "DescriptionStyleModel",
            "_view_count": null,
            "_view_module": "@jupyter-widgets/base",
            "_view_module_version": "1.2.0",
            "_view_name": "StyleView",
            "description_width": ""
          }
        },
        "370b5e7798904ceba542c9ab7ea6556c": {
          "model_module": "@jupyter-widgets/base",
          "model_module_version": "1.2.0",
          "model_name": "LayoutModel",
          "state": {
            "_model_module": "@jupyter-widgets/base",
            "_model_module_version": "1.2.0",
            "_model_name": "LayoutModel",
            "_view_count": null,
            "_view_module": "@jupyter-widgets/base",
            "_view_module_version": "1.2.0",
            "_view_name": "LayoutView",
            "align_content": null,
            "align_items": null,
            "align_self": null,
            "border": null,
            "bottom": null,
            "display": null,
            "flex": null,
            "flex_flow": null,
            "grid_area": null,
            "grid_auto_columns": null,
            "grid_auto_flow": null,
            "grid_auto_rows": null,
            "grid_column": null,
            "grid_gap": null,
            "grid_row": null,
            "grid_template_areas": null,
            "grid_template_columns": null,
            "grid_template_rows": null,
            "height": null,
            "justify_content": null,
            "justify_items": null,
            "left": null,
            "margin": null,
            "max_height": null,
            "max_width": null,
            "min_height": null,
            "min_width": null,
            "object_fit": null,
            "object_position": null,
            "order": null,
            "overflow": null,
            "overflow_x": null,
            "overflow_y": null,
            "padding": null,
            "right": null,
            "top": null,
            "visibility": null,
            "width": null
          }
        },
        "38b4664922c342b6b92bc5b46ba0f968": {
          "model_module": "@jupyter-widgets/controls",
          "model_module_version": "1.5.0",
          "model_name": "HTMLModel",
          "state": {
            "_dom_classes": [],
            "_model_module": "@jupyter-widgets/controls",
            "_model_module_version": "1.5.0",
            "_model_name": "HTMLModel",
            "_view_count": null,
            "_view_module": "@jupyter-widgets/controls",
            "_view_module_version": "1.5.0",
            "_view_name": "HTMLView",
            "description": "",
            "description_tooltip": null,
            "layout": "IPY_MODEL_fbce040f265a463689d79fba1fac3869",
            "placeholder": "​",
            "style": "IPY_MODEL_2dafe737d9fe43bc9ce31464c0a20cda",
            "value": " 5.53M/5.53M [00:00&lt;00:00, 81.2MB/s]"
          }
        },
        "399f8bdaa30147d39a6a75676d939700": {
          "model_module": "@jupyter-widgets/controls",
          "model_module_version": "1.5.0",
          "model_name": "DescriptionStyleModel",
          "state": {
            "_model_module": "@jupyter-widgets/controls",
            "_model_module_version": "1.5.0",
            "_model_name": "DescriptionStyleModel",
            "_view_count": null,
            "_view_module": "@jupyter-widgets/base",
            "_view_module_version": "1.2.0",
            "_view_name": "StyleView",
            "description_width": ""
          }
        },
        "3b568972d23445a3a00e40d3d9066d3a": {
          "model_module": "@jupyter-widgets/base",
          "model_module_version": "1.2.0",
          "model_name": "LayoutModel",
          "state": {
            "_model_module": "@jupyter-widgets/base",
            "_model_module_version": "1.2.0",
            "_model_name": "LayoutModel",
            "_view_count": null,
            "_view_module": "@jupyter-widgets/base",
            "_view_module_version": "1.2.0",
            "_view_name": "LayoutView",
            "align_content": null,
            "align_items": null,
            "align_self": null,
            "border": null,
            "bottom": null,
            "display": null,
            "flex": null,
            "flex_flow": null,
            "grid_area": null,
            "grid_auto_columns": null,
            "grid_auto_flow": null,
            "grid_auto_rows": null,
            "grid_column": null,
            "grid_gap": null,
            "grid_row": null,
            "grid_template_areas": null,
            "grid_template_columns": null,
            "grid_template_rows": null,
            "height": null,
            "justify_content": null,
            "justify_items": null,
            "left": null,
            "margin": null,
            "max_height": null,
            "max_width": null,
            "min_height": null,
            "min_width": null,
            "object_fit": null,
            "object_position": null,
            "order": null,
            "overflow": null,
            "overflow_x": null,
            "overflow_y": null,
            "padding": null,
            "right": null,
            "top": null,
            "visibility": null,
            "width": null
          }
        },
        "41a7410ce9d4495e9eb96274faf8a5ca": {
          "model_module": "@jupyter-widgets/base",
          "model_module_version": "1.2.0",
          "model_name": "LayoutModel",
          "state": {
            "_model_module": "@jupyter-widgets/base",
            "_model_module_version": "1.2.0",
            "_model_name": "LayoutModel",
            "_view_count": null,
            "_view_module": "@jupyter-widgets/base",
            "_view_module_version": "1.2.0",
            "_view_name": "LayoutView",
            "align_content": null,
            "align_items": null,
            "align_self": null,
            "border": null,
            "bottom": null,
            "display": null,
            "flex": null,
            "flex_flow": null,
            "grid_area": null,
            "grid_auto_columns": null,
            "grid_auto_flow": null,
            "grid_auto_rows": null,
            "grid_column": null,
            "grid_gap": null,
            "grid_row": null,
            "grid_template_areas": null,
            "grid_template_columns": null,
            "grid_template_rows": null,
            "height": null,
            "justify_content": null,
            "justify_items": null,
            "left": null,
            "margin": null,
            "max_height": null,
            "max_width": null,
            "min_height": null,
            "min_width": null,
            "object_fit": null,
            "object_position": null,
            "order": null,
            "overflow": null,
            "overflow_x": null,
            "overflow_y": null,
            "padding": null,
            "right": null,
            "top": null,
            "visibility": null,
            "width": null
          }
        },
        "461de20d36e6496896cb8a2a77b95060": {
          "model_module": "@jupyter-widgets/controls",
          "model_module_version": "1.5.0",
          "model_name": "HBoxModel",
          "state": {
            "_dom_classes": [],
            "_model_module": "@jupyter-widgets/controls",
            "_model_module_version": "1.5.0",
            "_model_name": "HBoxModel",
            "_view_count": null,
            "_view_module": "@jupyter-widgets/controls",
            "_view_module_version": "1.5.0",
            "_view_name": "HBoxView",
            "box_style": "",
            "children": [
              "IPY_MODEL_031e29b03b104a8fb30238978e52cbb2",
              "IPY_MODEL_25665d09cb6048bca53f14cab30a305b",
              "IPY_MODEL_56ade9b8abfb4524945426472b420f55"
            ],
            "layout": "IPY_MODEL_e2ea418592a948248a55bf94dc0ff4f0"
          }
        },
        "468cd413b70a4d39bb8cd2e10dd3dcca": {
          "model_module": "@jupyter-widgets/controls",
          "model_module_version": "1.5.0",
          "model_name": "DescriptionStyleModel",
          "state": {
            "_model_module": "@jupyter-widgets/controls",
            "_model_module_version": "1.5.0",
            "_model_name": "DescriptionStyleModel",
            "_view_count": null,
            "_view_module": "@jupyter-widgets/base",
            "_view_module_version": "1.2.0",
            "_view_name": "StyleView",
            "description_width": ""
          }
        },
        "4839126a0ca644899a4606f39837bd92": {
          "model_module": "@jupyter-widgets/controls",
          "model_module_version": "1.5.0",
          "model_name": "HBoxModel",
          "state": {
            "_dom_classes": [],
            "_model_module": "@jupyter-widgets/controls",
            "_model_module_version": "1.5.0",
            "_model_name": "HBoxModel",
            "_view_count": null,
            "_view_module": "@jupyter-widgets/controls",
            "_view_module_version": "1.5.0",
            "_view_name": "HBoxView",
            "box_style": "",
            "children": [
              "IPY_MODEL_def0c4272a4546bbb97d3775157552fc",
              "IPY_MODEL_ad8181de96a7453e8f5b7022512f0854",
              "IPY_MODEL_fe580b8e75a0489db7fa7d665d91c975"
            ],
            "layout": "IPY_MODEL_e83cc5b472a247c19ff1064317eade0d"
          }
        },
        "4e159ea5ce9b483c9306013b73819c25": {
          "model_module": "@jupyter-widgets/base",
          "model_module_version": "1.2.0",
          "model_name": "LayoutModel",
          "state": {
            "_model_module": "@jupyter-widgets/base",
            "_model_module_version": "1.2.0",
            "_model_name": "LayoutModel",
            "_view_count": null,
            "_view_module": "@jupyter-widgets/base",
            "_view_module_version": "1.2.0",
            "_view_name": "LayoutView",
            "align_content": null,
            "align_items": null,
            "align_self": null,
            "border": null,
            "bottom": null,
            "display": null,
            "flex": null,
            "flex_flow": null,
            "grid_area": null,
            "grid_auto_columns": null,
            "grid_auto_flow": null,
            "grid_auto_rows": null,
            "grid_column": null,
            "grid_gap": null,
            "grid_row": null,
            "grid_template_areas": null,
            "grid_template_columns": null,
            "grid_template_rows": null,
            "height": null,
            "justify_content": null,
            "justify_items": null,
            "left": null,
            "margin": null,
            "max_height": null,
            "max_width": null,
            "min_height": null,
            "min_width": null,
            "object_fit": null,
            "object_position": null,
            "order": null,
            "overflow": null,
            "overflow_x": null,
            "overflow_y": null,
            "padding": null,
            "right": null,
            "top": null,
            "visibility": null,
            "width": null
          }
        },
        "56ade9b8abfb4524945426472b420f55": {
          "model_module": "@jupyter-widgets/controls",
          "model_module_version": "1.5.0",
          "model_name": "HTMLModel",
          "state": {
            "_dom_classes": [],
            "_model_module": "@jupyter-widgets/controls",
            "_model_module_version": "1.5.0",
            "_model_name": "HTMLModel",
            "_view_count": null,
            "_view_module": "@jupyter-widgets/controls",
            "_view_module_version": "1.5.0",
            "_view_name": "HTMLView",
            "description": "",
            "description_tooltip": null,
            "layout": "IPY_MODEL_370b5e7798904ceba542c9ab7ea6556c",
            "placeholder": "​",
            "style": "IPY_MODEL_aed624435caf498b88299eed96db4051",
            "value": " 1.92k/1.92k [00:00&lt;00:00, 88.1kB/s]"
          }
        },
        "5e4130bdd7c2443ea5d53896f497ce73": {
          "model_module": "@jupyter-widgets/controls",
          "model_module_version": "1.5.0",
          "model_name": "HTMLModel",
          "state": {
            "_dom_classes": [],
            "_model_module": "@jupyter-widgets/controls",
            "_model_module_version": "1.5.0",
            "_model_name": "HTMLModel",
            "_view_count": null,
            "_view_module": "@jupyter-widgets/controls",
            "_view_module_version": "1.5.0",
            "_view_name": "HTMLView",
            "description": "",
            "description_tooltip": null,
            "layout": "IPY_MODEL_096a1b1c0e1b41d1b26a61c4182bd5cb",
            "placeholder": "​",
            "style": "IPY_MODEL_399f8bdaa30147d39a6a75676d939700",
            "value": " 1.92k/1.92k [00:00&lt;00:00, 66.2kB/s]"
          }
        },
        "61a91c5b4134497eb66095bd5ae62ffd": {
          "model_module": "@jupyter-widgets/controls",
          "model_module_version": "1.5.0",
          "model_name": "HTMLModel",
          "state": {
            "_dom_classes": [],
            "_model_module": "@jupyter-widgets/controls",
            "_model_module_version": "1.5.0",
            "_model_name": "HTMLModel",
            "_view_count": null,
            "_view_module": "@jupyter-widgets/controls",
            "_view_module_version": "1.5.0",
            "_view_name": "HTMLView",
            "description": "",
            "description_tooltip": null,
            "layout": "IPY_MODEL_ff86b38870684e9ca35462c4b2ee06e9",
            "placeholder": "​",
            "style": "IPY_MODEL_8440fb490bbb4234bdb21470a7a46177",
            "value": " 129k/129k [00:00&lt;00:00, 3.74MB/s]"
          }
        },
        "6cdfe6e529a849e4a1a460ae4e777e0c": {
          "model_module": "@jupyter-widgets/base",
          "model_module_version": "1.2.0",
          "model_name": "LayoutModel",
          "state": {
            "_model_module": "@jupyter-widgets/base",
            "_model_module_version": "1.2.0",
            "_model_name": "LayoutModel",
            "_view_count": null,
            "_view_module": "@jupyter-widgets/base",
            "_view_module_version": "1.2.0",
            "_view_name": "LayoutView",
            "align_content": null,
            "align_items": null,
            "align_self": null,
            "border": null,
            "bottom": null,
            "display": null,
            "flex": null,
            "flex_flow": null,
            "grid_area": null,
            "grid_auto_columns": null,
            "grid_auto_flow": null,
            "grid_auto_rows": null,
            "grid_column": null,
            "grid_gap": null,
            "grid_row": null,
            "grid_template_areas": null,
            "grid_template_columns": null,
            "grid_template_rows": null,
            "height": null,
            "justify_content": null,
            "justify_items": null,
            "left": null,
            "margin": null,
            "max_height": null,
            "max_width": null,
            "min_height": null,
            "min_width": null,
            "object_fit": null,
            "object_position": null,
            "order": null,
            "overflow": null,
            "overflow_x": null,
            "overflow_y": null,
            "padding": null,
            "right": null,
            "top": null,
            "visibility": null,
            "width": null
          }
        },
        "7024faffba154afc996a4b7e75cac05d": {
          "model_module": "@jupyter-widgets/base",
          "model_module_version": "1.2.0",
          "model_name": "LayoutModel",
          "state": {
            "_model_module": "@jupyter-widgets/base",
            "_model_module_version": "1.2.0",
            "_model_name": "LayoutModel",
            "_view_count": null,
            "_view_module": "@jupyter-widgets/base",
            "_view_module_version": "1.2.0",
            "_view_name": "LayoutView",
            "align_content": null,
            "align_items": null,
            "align_self": null,
            "border": null,
            "bottom": null,
            "display": null,
            "flex": null,
            "flex_flow": null,
            "grid_area": null,
            "grid_auto_columns": null,
            "grid_auto_flow": null,
            "grid_auto_rows": null,
            "grid_column": null,
            "grid_gap": null,
            "grid_row": null,
            "grid_template_areas": null,
            "grid_template_columns": null,
            "grid_template_rows": null,
            "height": null,
            "justify_content": null,
            "justify_items": null,
            "left": null,
            "margin": null,
            "max_height": null,
            "max_width": null,
            "min_height": null,
            "min_width": null,
            "object_fit": null,
            "object_position": null,
            "order": null,
            "overflow": null,
            "overflow_x": null,
            "overflow_y": null,
            "padding": null,
            "right": null,
            "top": null,
            "visibility": null,
            "width": null
          }
        },
        "78652cc9bb0f42e1bf602bf1e2e48f1c": {
          "model_module": "@jupyter-widgets/base",
          "model_module_version": "1.2.0",
          "model_name": "LayoutModel",
          "state": {
            "_model_module": "@jupyter-widgets/base",
            "_model_module_version": "1.2.0",
            "_model_name": "LayoutModel",
            "_view_count": null,
            "_view_module": "@jupyter-widgets/base",
            "_view_module_version": "1.2.0",
            "_view_name": "LayoutView",
            "align_content": null,
            "align_items": null,
            "align_self": null,
            "border": null,
            "bottom": null,
            "display": null,
            "flex": null,
            "flex_flow": null,
            "grid_area": null,
            "grid_auto_columns": null,
            "grid_auto_flow": null,
            "grid_auto_rows": null,
            "grid_column": null,
            "grid_gap": null,
            "grid_row": null,
            "grid_template_areas": null,
            "grid_template_columns": null,
            "grid_template_rows": null,
            "height": null,
            "justify_content": null,
            "justify_items": null,
            "left": null,
            "margin": null,
            "max_height": null,
            "max_width": null,
            "min_height": null,
            "min_width": null,
            "object_fit": null,
            "object_position": null,
            "order": null,
            "overflow": null,
            "overflow_x": null,
            "overflow_y": null,
            "padding": null,
            "right": null,
            "top": null,
            "visibility": null,
            "width": null
          }
        },
        "7afa5a0736794ec68cffa4e4fc32d3f0": {
          "model_module": "@jupyter-widgets/controls",
          "model_module_version": "1.5.0",
          "model_name": "DescriptionStyleModel",
          "state": {
            "_model_module": "@jupyter-widgets/controls",
            "_model_module_version": "1.5.0",
            "_model_name": "DescriptionStyleModel",
            "_view_count": null,
            "_view_module": "@jupyter-widgets/base",
            "_view_module_version": "1.2.0",
            "_view_name": "StyleView",
            "description_width": ""
          }
        },
        "8440fb490bbb4234bdb21470a7a46177": {
          "model_module": "@jupyter-widgets/controls",
          "model_module_version": "1.5.0",
          "model_name": "DescriptionStyleModel",
          "state": {
            "_model_module": "@jupyter-widgets/controls",
            "_model_module_version": "1.5.0",
            "_model_name": "DescriptionStyleModel",
            "_view_count": null,
            "_view_module": "@jupyter-widgets/base",
            "_view_module_version": "1.2.0",
            "_view_name": "StyleView",
            "description_width": ""
          }
        },
        "87afcf4ff92e4f3a997319fa224fb2fc": {
          "model_module": "@jupyter-widgets/controls",
          "model_module_version": "1.5.0",
          "model_name": "ProgressStyleModel",
          "state": {
            "_model_module": "@jupyter-widgets/controls",
            "_model_module_version": "1.5.0",
            "_model_name": "ProgressStyleModel",
            "_view_count": null,
            "_view_module": "@jupyter-widgets/base",
            "_view_module_version": "1.2.0",
            "_view_name": "StyleView",
            "bar_color": null,
            "description_width": ""
          }
        },
        "89ffaf53004a4eb385fa8111dfb31e3c": {
          "model_module": "@jupyter-widgets/base",
          "model_module_version": "1.2.0",
          "model_name": "LayoutModel",
          "state": {
            "_model_module": "@jupyter-widgets/base",
            "_model_module_version": "1.2.0",
            "_model_name": "LayoutModel",
            "_view_count": null,
            "_view_module": "@jupyter-widgets/base",
            "_view_module_version": "1.2.0",
            "_view_name": "LayoutView",
            "align_content": null,
            "align_items": null,
            "align_self": null,
            "border": null,
            "bottom": null,
            "display": null,
            "flex": null,
            "flex_flow": null,
            "grid_area": null,
            "grid_auto_columns": null,
            "grid_auto_flow": null,
            "grid_auto_rows": null,
            "grid_column": null,
            "grid_gap": null,
            "grid_row": null,
            "grid_template_areas": null,
            "grid_template_columns": null,
            "grid_template_rows": null,
            "height": null,
            "justify_content": null,
            "justify_items": null,
            "left": null,
            "margin": null,
            "max_height": null,
            "max_width": null,
            "min_height": null,
            "min_width": null,
            "object_fit": null,
            "object_position": null,
            "order": null,
            "overflow": null,
            "overflow_x": null,
            "overflow_y": null,
            "padding": null,
            "right": null,
            "top": null,
            "visibility": null,
            "width": null
          }
        },
        "93e2877b1edb43d19c97ee6a51cefb3c": {
          "model_module": "@jupyter-widgets/controls",
          "model_module_version": "1.5.0",
          "model_name": "DescriptionStyleModel",
          "state": {
            "_model_module": "@jupyter-widgets/controls",
            "_model_module_version": "1.5.0",
            "_model_name": "DescriptionStyleModel",
            "_view_count": null,
            "_view_module": "@jupyter-widgets/base",
            "_view_module_version": "1.2.0",
            "_view_name": "StyleView",
            "description_width": ""
          }
        },
        "9c661dcf67cd445b9b808d1ad36d3bb7": {
          "model_module": "@jupyter-widgets/controls",
          "model_module_version": "1.5.0",
          "model_name": "ProgressStyleModel",
          "state": {
            "_model_module": "@jupyter-widgets/controls",
            "_model_module_version": "1.5.0",
            "_model_name": "ProgressStyleModel",
            "_view_count": null,
            "_view_module": "@jupyter-widgets/base",
            "_view_module_version": "1.2.0",
            "_view_name": "StyleView",
            "bar_color": null,
            "description_width": ""
          }
        },
        "ad8181de96a7453e8f5b7022512f0854": {
          "model_module": "@jupyter-widgets/controls",
          "model_module_version": "1.5.0",
          "model_name": "FloatProgressModel",
          "state": {
            "_dom_classes": [],
            "_model_module": "@jupyter-widgets/controls",
            "_model_module_version": "1.5.0",
            "_model_name": "FloatProgressModel",
            "_view_count": null,
            "_view_module": "@jupyter-widgets/controls",
            "_view_module_version": "1.5.0",
            "_view_name": "ProgressView",
            "bar_style": "success",
            "description": "",
            "description_tooltip": null,
            "layout": "IPY_MODEL_1eda0c3d0400447a9ba572cf0046300e",
            "max": 83316686,
            "min": 0,
            "orientation": "horizontal",
            "style": "IPY_MODEL_e59e9b7c63614e72832d3bdbab368695",
            "value": 83316686
          }
        },
        "aed624435caf498b88299eed96db4051": {
          "model_module": "@jupyter-widgets/controls",
          "model_module_version": "1.5.0",
          "model_name": "DescriptionStyleModel",
          "state": {
            "_model_module": "@jupyter-widgets/controls",
            "_model_module_version": "1.5.0",
            "_model_name": "DescriptionStyleModel",
            "_view_count": null,
            "_view_module": "@jupyter-widgets/base",
            "_view_module_version": "1.2.0",
            "_view_name": "StyleView",
            "description_width": ""
          }
        },
        "af4853bf4afd4b7e9af9d61f109114ed": {
          "model_module": "@jupyter-widgets/controls",
          "model_module_version": "1.5.0",
          "model_name": "ProgressStyleModel",
          "state": {
            "_model_module": "@jupyter-widgets/controls",
            "_model_module_version": "1.5.0",
            "_model_name": "ProgressStyleModel",
            "_view_count": null,
            "_view_module": "@jupyter-widgets/base",
            "_view_module_version": "1.2.0",
            "_view_name": "StyleView",
            "bar_color": null,
            "description_width": ""
          }
        },
        "b5773facc6e943d5b5a72dbfd5f1c178": {
          "model_module": "@jupyter-widgets/controls",
          "model_module_version": "1.5.0",
          "model_name": "HBoxModel",
          "state": {
            "_dom_classes": [],
            "_model_module": "@jupyter-widgets/controls",
            "_model_module_version": "1.5.0",
            "_model_name": "HBoxModel",
            "_view_count": null,
            "_view_module": "@jupyter-widgets/controls",
            "_view_module_version": "1.5.0",
            "_view_name": "HBoxView",
            "box_style": "",
            "children": [
              "IPY_MODEL_bbcacbd0cff24a27b037d03bacdaff7a",
              "IPY_MODEL_187fcd49287544aa83fe758d055d6cfa",
              "IPY_MODEL_61a91c5b4134497eb66095bd5ae62ffd"
            ],
            "layout": "IPY_MODEL_3b568972d23445a3a00e40d3d9066d3a"
          }
        },
        "ba1263aa0e5f460ebfd396571033b31b": {
          "model_module": "@jupyter-widgets/base",
          "model_module_version": "1.2.0",
          "model_name": "LayoutModel",
          "state": {
            "_model_module": "@jupyter-widgets/base",
            "_model_module_version": "1.2.0",
            "_model_name": "LayoutModel",
            "_view_count": null,
            "_view_module": "@jupyter-widgets/base",
            "_view_module_version": "1.2.0",
            "_view_name": "LayoutView",
            "align_content": null,
            "align_items": null,
            "align_self": null,
            "border": null,
            "bottom": null,
            "display": null,
            "flex": null,
            "flex_flow": null,
            "grid_area": null,
            "grid_auto_columns": null,
            "grid_auto_flow": null,
            "grid_auto_rows": null,
            "grid_column": null,
            "grid_gap": null,
            "grid_row": null,
            "grid_template_areas": null,
            "grid_template_columns": null,
            "grid_template_rows": null,
            "height": null,
            "justify_content": null,
            "justify_items": null,
            "left": null,
            "margin": null,
            "max_height": null,
            "max_width": null,
            "min_height": null,
            "min_width": null,
            "object_fit": null,
            "object_position": null,
            "order": null,
            "overflow": null,
            "overflow_x": null,
            "overflow_y": null,
            "padding": null,
            "right": null,
            "top": null,
            "visibility": null,
            "width": null
          }
        },
        "bbcacbd0cff24a27b037d03bacdaff7a": {
          "model_module": "@jupyter-widgets/controls",
          "model_module_version": "1.5.0",
          "model_name": "HTMLModel",
          "state": {
            "_dom_classes": [],
            "_model_module": "@jupyter-widgets/controls",
            "_model_module_version": "1.5.0",
            "_model_name": "HTMLModel",
            "_view_count": null,
            "_view_module": "@jupyter-widgets/controls",
            "_view_module_version": "1.5.0",
            "_view_name": "HTMLView",
            "description": "",
            "description_tooltip": null,
            "layout": "IPY_MODEL_41a7410ce9d4495e9eb96274faf8a5ca",
            "placeholder": "​",
            "style": "IPY_MODEL_93e2877b1edb43d19c97ee6a51cefb3c",
            "value": "label_encoder.txt: 100%"
          }
        },
        "c2bd4994bd604739920f38377cbe573f": {
          "model_module": "@jupyter-widgets/base",
          "model_module_version": "1.2.0",
          "model_name": "LayoutModel",
          "state": {
            "_model_module": "@jupyter-widgets/base",
            "_model_module_version": "1.2.0",
            "_model_name": "LayoutModel",
            "_view_count": null,
            "_view_module": "@jupyter-widgets/base",
            "_view_module_version": "1.2.0",
            "_view_name": "LayoutView",
            "align_content": null,
            "align_items": null,
            "align_self": null,
            "border": null,
            "bottom": null,
            "display": null,
            "flex": null,
            "flex_flow": null,
            "grid_area": null,
            "grid_auto_columns": null,
            "grid_auto_flow": null,
            "grid_auto_rows": null,
            "grid_column": null,
            "grid_gap": null,
            "grid_row": null,
            "grid_template_areas": null,
            "grid_template_columns": null,
            "grid_template_rows": null,
            "height": null,
            "justify_content": null,
            "justify_items": null,
            "left": null,
            "margin": null,
            "max_height": null,
            "max_width": null,
            "min_height": null,
            "min_width": null,
            "object_fit": null,
            "object_position": null,
            "order": null,
            "overflow": null,
            "overflow_x": null,
            "overflow_y": null,
            "padding": null,
            "right": null,
            "top": null,
            "visibility": null,
            "width": null
          }
        },
        "cc6d9b192d8542b2834542156367036d": {
          "model_module": "@jupyter-widgets/base",
          "model_module_version": "1.2.0",
          "model_name": "LayoutModel",
          "state": {
            "_model_module": "@jupyter-widgets/base",
            "_model_module_version": "1.2.0",
            "_model_name": "LayoutModel",
            "_view_count": null,
            "_view_module": "@jupyter-widgets/base",
            "_view_module_version": "1.2.0",
            "_view_name": "LayoutView",
            "align_content": null,
            "align_items": null,
            "align_self": null,
            "border": null,
            "bottom": null,
            "display": null,
            "flex": null,
            "flex_flow": null,
            "grid_area": null,
            "grid_auto_columns": null,
            "grid_auto_flow": null,
            "grid_auto_rows": null,
            "grid_column": null,
            "grid_gap": null,
            "grid_row": null,
            "grid_template_areas": null,
            "grid_template_columns": null,
            "grid_template_rows": null,
            "height": null,
            "justify_content": null,
            "justify_items": null,
            "left": null,
            "margin": null,
            "max_height": null,
            "max_width": null,
            "min_height": null,
            "min_width": null,
            "object_fit": null,
            "object_position": null,
            "order": null,
            "overflow": null,
            "overflow_x": null,
            "overflow_y": null,
            "padding": null,
            "right": null,
            "top": null,
            "visibility": null,
            "width": null
          }
        },
        "d6c7967d40b948aca7dcc92ce13d8912": {
          "model_module": "@jupyter-widgets/controls",
          "model_module_version": "1.5.0",
          "model_name": "FloatProgressModel",
          "state": {
            "_dom_classes": [],
            "_model_module": "@jupyter-widgets/controls",
            "_model_module_version": "1.5.0",
            "_model_name": "FloatProgressModel",
            "_view_count": null,
            "_view_module": "@jupyter-widgets/controls",
            "_view_module_version": "1.5.0",
            "_view_name": "ProgressView",
            "bar_style": "success",
            "description": "",
            "description_tooltip": null,
            "layout": "IPY_MODEL_ba1263aa0e5f460ebfd396571033b31b",
            "max": 5534328,
            "min": 0,
            "orientation": "horizontal",
            "style": "IPY_MODEL_87afcf4ff92e4f3a997319fa224fb2fc",
            "value": 5534328
          }
        },
        "def0c4272a4546bbb97d3775157552fc": {
          "model_module": "@jupyter-widgets/controls",
          "model_module_version": "1.5.0",
          "model_name": "HTMLModel",
          "state": {
            "_dom_classes": [],
            "_model_module": "@jupyter-widgets/controls",
            "_model_module_version": "1.5.0",
            "_model_name": "HTMLModel",
            "_view_count": null,
            "_view_module": "@jupyter-widgets/controls",
            "_view_module_version": "1.5.0",
            "_view_name": "HTMLView",
            "description": "",
            "description_tooltip": null,
            "layout": "IPY_MODEL_34878cb9a2c041789ccbe20a40f7201a",
            "placeholder": "​",
            "style": "IPY_MODEL_3520827badae44ea8e19caacd2db88e5",
            "value": "embedding_model.ckpt: 100%"
          }
        },
        "e2ea418592a948248a55bf94dc0ff4f0": {
          "model_module": "@jupyter-widgets/base",
          "model_module_version": "1.2.0",
          "model_name": "LayoutModel",
          "state": {
            "_model_module": "@jupyter-widgets/base",
            "_model_module_version": "1.2.0",
            "_model_name": "LayoutModel",
            "_view_count": null,
            "_view_module": "@jupyter-widgets/base",
            "_view_module_version": "1.2.0",
            "_view_name": "LayoutView",
            "align_content": null,
            "align_items": null,
            "align_self": null,
            "border": null,
            "bottom": null,
            "display": null,
            "flex": null,
            "flex_flow": null,
            "grid_area": null,
            "grid_auto_columns": null,
            "grid_auto_flow": null,
            "grid_auto_rows": null,
            "grid_column": null,
            "grid_gap": null,
            "grid_row": null,
            "grid_template_areas": null,
            "grid_template_columns": null,
            "grid_template_rows": null,
            "height": null,
            "justify_content": null,
            "justify_items": null,
            "left": null,
            "margin": null,
            "max_height": null,
            "max_width": null,
            "min_height": null,
            "min_width": null,
            "object_fit": null,
            "object_position": null,
            "order": null,
            "overflow": null,
            "overflow_x": null,
            "overflow_y": null,
            "padding": null,
            "right": null,
            "top": null,
            "visibility": null,
            "width": null
          }
        },
        "e59e9b7c63614e72832d3bdbab368695": {
          "model_module": "@jupyter-widgets/controls",
          "model_module_version": "1.5.0",
          "model_name": "ProgressStyleModel",
          "state": {
            "_model_module": "@jupyter-widgets/controls",
            "_model_module_version": "1.5.0",
            "_model_name": "ProgressStyleModel",
            "_view_count": null,
            "_view_module": "@jupyter-widgets/base",
            "_view_module_version": "1.2.0",
            "_view_name": "StyleView",
            "bar_color": null,
            "description_width": ""
          }
        },
        "e83cc5b472a247c19ff1064317eade0d": {
          "model_module": "@jupyter-widgets/base",
          "model_module_version": "1.2.0",
          "model_name": "LayoutModel",
          "state": {
            "_model_module": "@jupyter-widgets/base",
            "_model_module_version": "1.2.0",
            "_model_name": "LayoutModel",
            "_view_count": null,
            "_view_module": "@jupyter-widgets/base",
            "_view_module_version": "1.2.0",
            "_view_name": "LayoutView",
            "align_content": null,
            "align_items": null,
            "align_self": null,
            "border": null,
            "bottom": null,
            "display": null,
            "flex": null,
            "flex_flow": null,
            "grid_area": null,
            "grid_auto_columns": null,
            "grid_auto_flow": null,
            "grid_auto_rows": null,
            "grid_column": null,
            "grid_gap": null,
            "grid_row": null,
            "grid_template_areas": null,
            "grid_template_columns": null,
            "grid_template_rows": null,
            "height": null,
            "justify_content": null,
            "justify_items": null,
            "left": null,
            "margin": null,
            "max_height": null,
            "max_width": null,
            "min_height": null,
            "min_width": null,
            "object_fit": null,
            "object_position": null,
            "order": null,
            "overflow": null,
            "overflow_x": null,
            "overflow_y": null,
            "padding": null,
            "right": null,
            "top": null,
            "visibility": null,
            "width": null
          }
        },
        "e881de89631441f3a8a320ebea4704ee": {
          "model_module": "@jupyter-widgets/controls",
          "model_module_version": "1.5.0",
          "model_name": "HTMLModel",
          "state": {
            "_dom_classes": [],
            "_model_module": "@jupyter-widgets/controls",
            "_model_module_version": "1.5.0",
            "_model_name": "HTMLModel",
            "_view_count": null,
            "_view_module": "@jupyter-widgets/controls",
            "_view_module_version": "1.5.0",
            "_view_name": "HTMLView",
            "description": "",
            "description_tooltip": null,
            "layout": "IPY_MODEL_6cdfe6e529a849e4a1a460ae4e777e0c",
            "placeholder": "​",
            "style": "IPY_MODEL_0333a543555344b2a76e03045f78319c",
            "value": "hyperparams.yaml: 100%"
          }
        },
        "f361cf3247014b5fbc245a38c1dff60f": {
          "model_module": "@jupyter-widgets/controls",
          "model_module_version": "1.5.0",
          "model_name": "HBoxModel",
          "state": {
            "_dom_classes": [],
            "_model_module": "@jupyter-widgets/controls",
            "_model_module_version": "1.5.0",
            "_model_name": "HBoxModel",
            "_view_count": null,
            "_view_module": "@jupyter-widgets/controls",
            "_view_module_version": "1.5.0",
            "_view_name": "HBoxView",
            "box_style": "",
            "children": [
              "IPY_MODEL_fadb93b8899b4169935b04bbf16d7a8e",
              "IPY_MODEL_d6c7967d40b948aca7dcc92ce13d8912",
              "IPY_MODEL_38b4664922c342b6b92bc5b46ba0f968"
            ],
            "layout": "IPY_MODEL_89ffaf53004a4eb385fa8111dfb31e3c"
          }
        },
        "f37bced7d40141919fbbc93ded1508f7": {
          "model_module": "@jupyter-widgets/base",
          "model_module_version": "1.2.0",
          "model_name": "LayoutModel",
          "state": {
            "_model_module": "@jupyter-widgets/base",
            "_model_module_version": "1.2.0",
            "_model_name": "LayoutModel",
            "_view_count": null,
            "_view_module": "@jupyter-widgets/base",
            "_view_module_version": "1.2.0",
            "_view_name": "LayoutView",
            "align_content": null,
            "align_items": null,
            "align_self": null,
            "border": null,
            "bottom": null,
            "display": null,
            "flex": null,
            "flex_flow": null,
            "grid_area": null,
            "grid_auto_columns": null,
            "grid_auto_flow": null,
            "grid_auto_rows": null,
            "grid_column": null,
            "grid_gap": null,
            "grid_row": null,
            "grid_template_areas": null,
            "grid_template_columns": null,
            "grid_template_rows": null,
            "height": null,
            "justify_content": null,
            "justify_items": null,
            "left": null,
            "margin": null,
            "max_height": null,
            "max_width": null,
            "min_height": null,
            "min_width": null,
            "object_fit": null,
            "object_position": null,
            "order": null,
            "overflow": null,
            "overflow_x": null,
            "overflow_y": null,
            "padding": null,
            "right": null,
            "top": null,
            "visibility": null,
            "width": null
          }
        },
        "f7b1cffc8e624c12a90dd200c34321cd": {
          "model_module": "@jupyter-widgets/controls",
          "model_module_version": "1.5.0",
          "model_name": "DescriptionStyleModel",
          "state": {
            "_model_module": "@jupyter-widgets/controls",
            "_model_module_version": "1.5.0",
            "_model_name": "DescriptionStyleModel",
            "_view_count": null,
            "_view_module": "@jupyter-widgets/base",
            "_view_module_version": "1.2.0",
            "_view_name": "StyleView",
            "description_width": ""
          }
        },
        "f8ae9d916b174076bb979b5105581f76": {
          "model_module": "@jupyter-widgets/controls",
          "model_module_version": "1.5.0",
          "model_name": "HBoxModel",
          "state": {
            "_dom_classes": [],
            "_model_module": "@jupyter-widgets/controls",
            "_model_module_version": "1.5.0",
            "_model_name": "HBoxModel",
            "_view_count": null,
            "_view_module": "@jupyter-widgets/controls",
            "_view_module_version": "1.5.0",
            "_view_name": "HBoxView",
            "box_style": "",
            "children": [
              "IPY_MODEL_e881de89631441f3a8a320ebea4704ee",
              "IPY_MODEL_0440b1add3dc46eda1949942873cac45",
              "IPY_MODEL_5e4130bdd7c2443ea5d53896f497ce73"
            ],
            "layout": "IPY_MODEL_78652cc9bb0f42e1bf602bf1e2e48f1c"
          }
        },
        "fadb93b8899b4169935b04bbf16d7a8e": {
          "model_module": "@jupyter-widgets/controls",
          "model_module_version": "1.5.0",
          "model_name": "HTMLModel",
          "state": {
            "_dom_classes": [],
            "_model_module": "@jupyter-widgets/controls",
            "_model_module_version": "1.5.0",
            "_model_name": "HTMLModel",
            "_view_count": null,
            "_view_module": "@jupyter-widgets/controls",
            "_view_module_version": "1.5.0",
            "_view_name": "HTMLView",
            "description": "",
            "description_tooltip": null,
            "layout": "IPY_MODEL_f37bced7d40141919fbbc93ded1508f7",
            "placeholder": "​",
            "style": "IPY_MODEL_7afa5a0736794ec68cffa4e4fc32d3f0",
            "value": "classifier.ckpt: 100%"
          }
        },
        "fbce040f265a463689d79fba1fac3869": {
          "model_module": "@jupyter-widgets/base",
          "model_module_version": "1.2.0",
          "model_name": "LayoutModel",
          "state": {
            "_model_module": "@jupyter-widgets/base",
            "_model_module_version": "1.2.0",
            "_model_name": "LayoutModel",
            "_view_count": null,
            "_view_module": "@jupyter-widgets/base",
            "_view_module_version": "1.2.0",
            "_view_name": "LayoutView",
            "align_content": null,
            "align_items": null,
            "align_self": null,
            "border": null,
            "bottom": null,
            "display": null,
            "flex": null,
            "flex_flow": null,
            "grid_area": null,
            "grid_auto_columns": null,
            "grid_auto_flow": null,
            "grid_auto_rows": null,
            "grid_column": null,
            "grid_gap": null,
            "grid_row": null,
            "grid_template_areas": null,
            "grid_template_columns": null,
            "grid_template_rows": null,
            "height": null,
            "justify_content": null,
            "justify_items": null,
            "left": null,
            "margin": null,
            "max_height": null,
            "max_width": null,
            "min_height": null,
            "min_width": null,
            "object_fit": null,
            "object_position": null,
            "order": null,
            "overflow": null,
            "overflow_x": null,
            "overflow_y": null,
            "padding": null,
            "right": null,
            "top": null,
            "visibility": null,
            "width": null
          }
        },
        "fe580b8e75a0489db7fa7d665d91c975": {
          "model_module": "@jupyter-widgets/controls",
          "model_module_version": "1.5.0",
          "model_name": "HTMLModel",
          "state": {
            "_dom_classes": [],
            "_model_module": "@jupyter-widgets/controls",
            "_model_module_version": "1.5.0",
            "_model_name": "HTMLModel",
            "_view_count": null,
            "_view_module": "@jupyter-widgets/controls",
            "_view_module_version": "1.5.0",
            "_view_name": "HTMLView",
            "description": "",
            "description_tooltip": null,
            "layout": "IPY_MODEL_27573c8670114a3f821199dd3747b63e",
            "placeholder": "​",
            "style": "IPY_MODEL_468cd413b70a4d39bb8cd2e10dd3dcca",
            "value": " 83.3M/83.3M [00:00&lt;00:00, 209MB/s]"
          }
        },
        "ff86b38870684e9ca35462c4b2ee06e9": {
          "model_module": "@jupyter-widgets/base",
          "model_module_version": "1.2.0",
          "model_name": "LayoutModel",
          "state": {
            "_model_module": "@jupyter-widgets/base",
            "_model_module_version": "1.2.0",
            "_model_name": "LayoutModel",
            "_view_count": null,
            "_view_module": "@jupyter-widgets/base",
            "_view_module_version": "1.2.0",
            "_view_name": "LayoutView",
            "align_content": null,
            "align_items": null,
            "align_self": null,
            "border": null,
            "bottom": null,
            "display": null,
            "flex": null,
            "flex_flow": null,
            "grid_area": null,
            "grid_auto_columns": null,
            "grid_auto_flow": null,
            "grid_auto_rows": null,
            "grid_column": null,
            "grid_gap": null,
            "grid_row": null,
            "grid_template_areas": null,
            "grid_template_columns": null,
            "grid_template_rows": null,
            "height": null,
            "justify_content": null,
            "justify_items": null,
            "left": null,
            "margin": null,
            "max_height": null,
            "max_width": null,
            "min_height": null,
            "min_width": null,
            "object_fit": null,
            "object_position": null,
            "order": null,
            "overflow": null,
            "overflow_x": null,
            "overflow_y": null,
            "padding": null,
            "right": null,
            "top": null,
            "visibility": null,
            "width": null
          }
        }
      }
    }
  },
  "nbformat": 4,
  "nbformat_minor": 0
}